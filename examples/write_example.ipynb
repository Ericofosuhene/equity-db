{
 "cells": [
  {
   "cell_type": "markdown",
   "source": [
    "# Writing to DB"
   ],
   "metadata": {
    "collapsed": false,
    "pycharm": {
     "name": "#%% md\n"
    }
   }
  },
  {
   "cell_type": "code",
   "execution_count": 1,
   "metadata": {
    "collapsed": true
   },
   "outputs": [],
   "source": [
    "import pandas as pd\n",
    "\n",
    "from db_access.insert_to_db import InsertIntoDB\n",
    "from api.mongo_connection import MongoAPI"
   ]
  },
  {
   "cell_type": "code",
   "execution_count": 2,
   "outputs": [
    {
     "name": "stderr",
     "output_type": "stream",
     "text": [
      "/Library/Frameworks/Python.framework/Versions/3.9/lib/python3.9/site-packages/IPython/core/interactiveshell.py:3146: DtypeWarning: Columns (1,4,19) have mixed types.Specify dtype option on import or set low_memory=False.\n",
      "  has_raised = await self.run_ast_nodes(code_ast.body, cell_name,\n"
     ]
    }
   ],
   "source": [
    "# reading our file\n",
    "data = pd.read_csv('/Users/alex/Downloads/pullout/DS4300_data_2010.csv')"
   ],
   "metadata": {
    "collapsed": false,
    "pycharm": {
     "name": "#%%\n"
    }
   }
  },
  {
   "cell_type": "code",
   "execution_count": 3,
   "outputs": [
    {
     "name": "stdout",
     "output_type": "stream",
     "text": [
      "<class 'pandas.core.frame.DataFrame'>\n",
      "RangeIndex: 51242297 entries, 0 to 51242296\n",
      "Data columns (total 20 columns):\n",
      " #   Column    Dtype  \n",
      "---  ------    -----  \n",
      " 0   gvkey     int64  \n",
      " 1   iid       object \n",
      " 2   datadate  int64  \n",
      " 3   tic       object \n",
      " 4   cusip     object \n",
      " 5   conm      object \n",
      " 6   div       float64\n",
      " 7   ajexdi    float64\n",
      " 8   cshoc     float64\n",
      " 9   cshtrd    float64\n",
      " 10  eps       float64\n",
      " 11  prccd     float64\n",
      " 12  prchd     float64\n",
      " 13  prcld     float64\n",
      " 14  prcod     float64\n",
      " 15  exchg     float64\n",
      " 16  cik       float64\n",
      " 17  add1      object \n",
      " 18  spcindcd  float64\n",
      " 19  weburl    object \n",
      "dtypes: float64(12), int64(2), object(6)\n",
      "memory usage: 7.6+ GB\n"
     ]
    }
   ],
   "source": [
    "# Lets see what we are dealing with\n",
    "data.info()"
   ],
   "metadata": {
    "collapsed": false,
    "pycharm": {
     "name": "#%%\n"
    }
   }
  },
  {
   "cell_type": "code",
   "execution_count": 4,
   "outputs": [],
   "source": [
    "# turning the data into strings and ints\n",
    "# numpy objects are not accepted by Mongo\n",
    "string = ['cusip', 'tic', 'cik', 'conm', 'exchg', 'add1', 'spcindcd', 'weburl']\n",
    "integer  = [\"div\", \"ajexdi\", \"cshoc\", \"cshtrd\", \"eps\", \"prccd\", \"prchd\", \"prcld\", \"prcod\"]\n",
    "\n",
    "for col in string:\n",
    "    data[col] = data[col].astype(str)\n",
    "\n",
    "for col in integer:\n",
    "    data[col] = data[col].astype(float)"
   ],
   "metadata": {
    "collapsed": false,
    "pycharm": {
     "name": "#%%\n"
    }
   }
  },
  {
   "cell_type": "code",
   "execution_count": 5,
   "outputs": [],
   "source": [
    "# connecting to the mongo db\n",
    "api = MongoAPI('DS4300')\n",
    "\n",
    "# making the object which gives us write access\n",
    "insert_object = InsertIntoDB(api)"
   ],
   "metadata": {
    "collapsed": false,
    "pycharm": {
     "name": "#%%\n"
    }
   }
  },
  {
   "cell_type": "code",
   "execution_count": 6,
   "outputs": [
    {
     "name": "stdout",
     "output_type": "stream",
     "text": [
      "Parsing dates\n",
      "adjusting indexes of passed frame\n",
      "Inserting 51242297 rows of data for 33067 unique assets\n"
     ]
    },
    {
     "name": "stderr",
     "output_type": "stream",
     "text": [
      "100%|██████████| 33067/33067 [28:40<00:00, 19.22it/s]  \n"
     ]
    }
   ],
   "source": [
    "# formatting the table into a document\n",
    "# inserting that document into a mongo db collection called \"compustat\"\n",
    "insert_object.format_and_insert(\n",
    "    data,\n",
    "    static_cols= ['cusip', 'tic', 'cik', 'conm', 'exchg', 'add1', 'spcindcd', 'weburl'],\n",
    "    timeseries_cols=['div', 'ajexdi', 'cshoc', 'cshtrd', 'eps', 'prccd', 'prchd', 'prcld', 'prcod']\n",
    ")\n"
   ],
   "metadata": {
    "collapsed": false,
    "pycharm": {
     "name": "#%%\n"
    }
   }
  }
 ],
 "metadata": {
  "kernelspec": {
   "display_name": "Python 3",
   "language": "python",
   "name": "python3"
  },
  "language_info": {
   "codemirror_mode": {
    "name": "ipython",
    "version": 2
   },
   "file_extension": ".py",
   "mimetype": "text/x-python",
   "name": "python",
   "nbconvert_exporter": "python",
   "pygments_lexer": "ipython2",
   "version": "2.7.6"
  }
 },
 "nbformat": 4,
 "nbformat_minor": 0
}