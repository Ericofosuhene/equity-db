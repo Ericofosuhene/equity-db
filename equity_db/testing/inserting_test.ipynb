{
 "cells": [
  {
   "cell_type": "code",
   "execution_count": 1,
   "outputs": [],
   "source": [
    "import datetime\n",
    "import pandas as pd\n",
    "from equity_db.api.mongo_connection import MongoAPI\n",
    "from equity_db.variables.crsp_variables import CRSPVariables\n",
    "from equity_db.write.insert_to_db import InsertIntoDB\n"
   ],
   "metadata": {
    "collapsed": false,
    "pycharm": {
     "name": "#%%\n"
    }
   }
  },
  {
   "cell_type": "code",
   "execution_count": 2,
   "outputs": [
    {
     "data": {
      "text/plain": "4.671209"
     },
     "execution_count": 2,
     "metadata": {},
     "output_type": "execute_result"
    }
   ],
   "source": [
    "var = CRSPVariables()\n",
    "s = datetime.datetime.now()\n",
    "data = pd.read_csv('/Users/alex/Desktop/full crsp.csv', low_memory=True, dtype=var.make_dtypes(), nrows=600000)\n",
    "(datetime.datetime.now() - s).total_seconds()"
   ],
   "metadata": {
    "collapsed": false,
    "pycharm": {
     "name": "#%%\n"
    }
   }
  },
  {
   "cell_type": "code",
   "execution_count": 3,
   "outputs": [],
   "source": [
    "#data.info()\n",
    "ins = InsertIntoDB(MongoAPI('test'))\n",
    "collection = 'crsp'"
   ],
   "metadata": {
    "collapsed": false,
    "pycharm": {
     "name": "#%%\n"
    }
   }
  },
  {
   "cell_type": "code",
   "execution_count": 4,
   "outputs": [
    {
     "name": "stderr",
     "output_type": "stream",
     "text": [
      "100%|██████████| 51/51 [00:04<00:00, 11.41it/s]\n",
      "100%|██████████| 32/32 [00:07<00:00,  4.30it/s]\n"
     ]
    },
    {
     "name": "stdout",
     "output_type": "stream",
     "text": [
      "Adjusting static data...\n",
      "ERROR on col stko\n",
      "Cannot convert float NaN to integer\n",
      "ERROR on col gsubind\n",
      "Cannot convert float NaN to integer\n",
      "ERROR on col ggroup\n",
      "Cannot convert float NaN to integer\n",
      "ERROR on col gsector\n",
      "Cannot convert float NaN to integer\n",
      "Adjusting timeseries data...\n",
      "Changing index...\n"
     ]
    }
   ],
   "source": [
    "data_for_insert = ins.prep_data_for_format_and_insert(data, collection, '%Y%m%d')"
   ],
   "metadata": {
    "collapsed": false,
    "pycharm": {
     "name": "#%%\n"
    }
   }
  },
  {
   "cell_type": "code",
   "execution_count": 5,
   "outputs": [],
   "source": [
    "#data_for_insert.info()"
   ],
   "metadata": {
    "collapsed": false,
    "pycharm": {
     "name": "#%%\n"
    }
   }
  },
  {
   "cell_type": "code",
   "execution_count": 6,
   "outputs": [
    {
     "name": "stdout",
     "output_type": "stream",
     "text": [
      "Starting insert...\n",
      "10006\n",
      "10015\n",
      "10031\n",
      "10057\n",
      "10065\n",
      "10074\n",
      "10082\n",
      "10103\n",
      "10123\n",
      "10137\n",
      "10145\n",
      "10146\n",
      "10153\n",
      "10154\n",
      "10189\n",
      "{ns.unique_identifier}: {asset_id} BAAAAAAD\n",
      "10218\n",
      "10269\n",
      "10285\n",
      "10314\n",
      "10429\n",
      "10480\n",
      "10496\n",
      "10517\n",
      "10560\n",
      "10568\n",
      "10640\n",
      "10656\n",
      "10664\n",
      "10672\n",
      "10699\n",
      "10701\n",
      "10720\n",
      "10752\n",
      "10779\n",
      "10787\n",
      "10808\n",
      "10824\n",
      "10867\n",
      "10875\n",
      "10904\n",
      "10912\n",
      "10990\n",
      "10998\n",
      "11010\n",
      "11042\n",
      "11077\n",
      "11114\n",
      "11149\n",
      "11157\n",
      "11173\n",
      "11181\n",
      "11296\n",
      "11317\n",
      "11341\n",
      "11368\n",
      "11376\n",
      "11456\n",
      "11499\n",
      "11536\n",
      "11587\n",
      "11608\n",
      "11624\n",
      "11647\n",
      "11691\n",
      "11704\n",
      "11739\n",
      "11755\n",
      "11763\n",
      "11790\n",
      "11827\n",
      "11843\n",
      "11851\n",
      "11870\n",
      "11931\n",
      "11974\n",
      "12002\n",
      "12045\n",
      "12096\n",
      "12117\n",
      "12168\n",
      "12192\n",
      "12205\n",
      "15763\n",
      "15916\n",
      "17224\n",
      "17304\n",
      "17400\n",
      "18817\n",
      "18980\n",
      "20482\n",
      "21020\n",
      "22074\n",
      "24264\n",
      "26331\n",
      "26649\n",
      "27991\n",
      "28222\n",
      "28636\n",
      "28652\n",
      "28716\n",
      "28740\n",
      "28804\n",
      "28855\n",
      "39116\n",
      "40096\n",
      "{ns.unique_identifier}: {asset_id} BAAAAAAD\n",
      "41443\n",
      "42083\n",
      "44231\n",
      "44740\n",
      "45911\n",
      "46624\n",
      "46850\n",
      "47650\n",
      "48514\n",
      "49103\n",
      "49330\n",
      "49584\n",
      "50032\n",
      "50569\n",
      "50906\n",
      "51510\n",
      "51721\n",
      "54594\n",
      "55335\n",
      "56266\n",
      "56899\n",
      "57306\n",
      "57349\n",
      "57461\n",
      "57613\n",
      "60038\n",
      "61081\n",
      "61241\n",
      "61268\n",
      "61487\n",
      "62500\n",
      "63837\n",
      "63845\n",
      "63853\n",
      "64514\n",
      "64688\n",
      "64848\n",
      "65453\n",
      "65832\n",
      "65840\n",
      "66405\n",
      "66413\n",
      "66755\n",
      "67125\n",
      "67133\n",
      "68806\n",
      "68814\n",
      "69163\n",
      "69171\n",
      "71239\n",
      "71271\n",
      "75618\n",
      "76876\n",
      "77829\n",
      "78049\n",
      "78223\n",
      "79678\n",
      "80071\n",
      "81765\n",
      "81912\n",
      "82233\n",
      "85033\n",
      "85041\n",
      "85084\n",
      "85113\n",
      "85164\n",
      "85244\n",
      "85252\n",
      "85279\n",
      "85295\n",
      "88845\n",
      "90284\n",
      "90335\n",
      "Finished formatting and inserting!\n"
     ]
    },
    {
     "name": "stderr",
     "output_type": "stream",
     "text": [
      "/Users/alex/.conda/envs/equity_db/lib/python3.8/site-packages/IPython/core/interactiveshell.py:3441: DtypeWarning: Columns (7,11,13,22,23,24,25,26,27,28,52,57,60,71,77,80) have mixed types.Specify dtype option on import or set low_memory=False.\n",
      "  exec(code_obj, self.user_global_ns, self.user_ns)\n",
      "/Users/alex/.conda/envs/equity_db/lib/python3.8/site-packages/IPython/core/interactiveshell.py:3441: DtypeWarning: Columns (7,11,13,22,24,25,26,27,28,52,57,60,71,77,80) have mixed types.Specify dtype option on import or set low_memory=False.\n",
      "  exec(code_obj, self.user_global_ns, self.user_ns)\n",
      "/Users/alex/.conda/envs/equity_db/lib/python3.8/site-packages/IPython/core/interactiveshell.py:3441: DtypeWarning: Columns (7,11,13,22,24,25,26,27,28,45,52,57,60,72,77) have mixed types.Specify dtype option on import or set low_memory=False.\n",
      "  exec(code_obj, self.user_global_ns, self.user_ns)\n",
      "/Users/alex/.conda/envs/equity_db/lib/python3.8/site-packages/IPython/core/interactiveshell.py:3441: DtypeWarning: Columns (7,11,13,22,24,25,26,27,28,52,57,60,80) have mixed types.Specify dtype option on import or set low_memory=False.\n",
      "  exec(code_obj, self.user_global_ns, self.user_ns)\n",
      "/Users/alex/.conda/envs/equity_db/lib/python3.8/site-packages/IPython/core/interactiveshell.py:3441: DtypeWarning: Columns (7,11,24,26,52,57,60,71,80) have mixed types.Specify dtype option on import or set low_memory=False.\n",
      "  exec(code_obj, self.user_global_ns, self.user_ns)\n",
      "/Users/alex/.conda/envs/equity_db/lib/python3.8/site-packages/IPython/core/interactiveshell.py:3441: DtypeWarning: Columns (7,11,22,23,24,26,28,52,57,60,77,80) have mixed types.Specify dtype option on import or set low_memory=False.\n",
      "  exec(code_obj, self.user_global_ns, self.user_ns)\n",
      "/Users/alex/.conda/envs/equity_db/lib/python3.8/site-packages/IPython/core/interactiveshell.py:3441: DtypeWarning: Columns (7,13,22,24,25,26,27,28,52,57,60,71,77,80) have mixed types.Specify dtype option on import or set low_memory=False.\n",
      "  exec(code_obj, self.user_global_ns, self.user_ns)\n",
      "/Users/alex/.conda/envs/equity_db/lib/python3.8/site-packages/IPython/core/interactiveshell.py:3441: DtypeWarning: Columns (7,11,22,24,25,26,28,52,57,60,71) have mixed types.Specify dtype option on import or set low_memory=False.\n",
      "  exec(code_obj, self.user_global_ns, self.user_ns)\n"
     ]
    },
    {
     "ename": "NameError",
     "evalue": "name 'took' is not defined",
     "output_type": "error",
     "traceback": [
      "\u001B[0;31m---------------------------------------------------------------------------\u001B[0m",
      "\u001B[0;31mNameError\u001B[0m                                 Traceback (most recent call last)",
      "\u001B[0;32m<ipython-input-6-3bbcadfe6ffb>\u001B[0m in \u001B[0;36m<module>\u001B[0;34m\u001B[0m\n\u001B[0;32m----> 1\u001B[0;31m \u001B[0mins\u001B[0m\u001B[0;34m.\u001B[0m\u001B[0mformat_and_insert\u001B[0m\u001B[0;34m(\u001B[0m\u001B[0mdata\u001B[0m\u001B[0;34m,\u001B[0m \u001B[0mcollection\u001B[0m\u001B[0;34m)\u001B[0m\u001B[0;34m\u001B[0m\u001B[0;34m\u001B[0m\u001B[0m\n\u001B[0m",
      "\u001B[0;32m~/Documents/GitHub/equity-db/equity_db/write/insert_to_db.py\u001B[0m in \u001B[0;36mformat_and_insert\u001B[0;34m(***failed resolving arguments***)\u001B[0m\n\u001B[1;32m    117\u001B[0m \u001B[0;34m\u001B[0m\u001B[0m\n\u001B[1;32m    118\u001B[0m         \u001B[0mprint\u001B[0m\u001B[0;34m(\u001B[0m\u001B[0;34m'Finished formatting and inserting!'\u001B[0m\u001B[0;34m)\u001B[0m\u001B[0;34m\u001B[0m\u001B[0;34m\u001B[0m\u001B[0m\n\u001B[0;32m--> 119\u001B[0;31m         \u001B[0mprint\u001B[0m\u001B[0;34m(\u001B[0m\u001B[0;34mf'Took {int(took / 60)} minutes, {took % 60} seconds'\u001B[0m\u001B[0;34m)\u001B[0m\u001B[0;34m\u001B[0m\u001B[0;34m\u001B[0m\u001B[0m\n\u001B[0m\u001B[1;32m    120\u001B[0m \u001B[0;34m\u001B[0m\u001B[0m\n\u001B[1;32m    121\u001B[0m     \u001B[0;32mdef\u001B[0m \u001B[0mmake_namespace\u001B[0m\u001B[0;34m(\u001B[0m\u001B[0mself\u001B[0m\u001B[0;34m,\u001B[0m \u001B[0mcollection\u001B[0m\u001B[0;34m:\u001B[0m \u001B[0mstr\u001B[0m\u001B[0;34m,\u001B[0m \u001B[0mcolumns\u001B[0m\u001B[0;34m:\u001B[0m \u001B[0mIterable\u001B[0m\u001B[0;34m[\u001B[0m\u001B[0mstr\u001B[0m\u001B[0;34m]\u001B[0m\u001B[0;34m)\u001B[0m \u001B[0;34m->\u001B[0m \u001B[0mmanagers\u001B[0m\u001B[0;34m.\u001B[0m\u001B[0mNamespace\u001B[0m\u001B[0;34m:\u001B[0m\u001B[0;34m\u001B[0m\u001B[0;34m\u001B[0m\u001B[0m\n",
      "\u001B[0;31mNameError\u001B[0m: name 'took' is not defined"
     ]
    }
   ],
   "source": [
    "ins.format_and_insert(data, collection)"
   ],
   "metadata": {
    "collapsed": false,
    "pycharm": {
     "name": "#%%\n"
    }
   }
  },
  {
   "cell_type": "code",
   "execution_count": null,
   "outputs": [],
   "source": [
    "\n",
    "\n",
    "\n",
    "\n",
    "\n",
    "\n",
    "data_for_insert.loc['10189']"
   ],
   "metadata": {
    "collapsed": false,
    "pycharm": {
     "name": "#%%\n"
    }
   }
  },
  {
   "cell_type": "code",
   "execution_count": 63,
   "outputs": [
    {
     "data": {
      "text/plain": "599999"
     },
     "execution_count": 63,
     "metadata": {},
     "output_type": "execute_result"
    }
   ],
   "source": [
    "d = data['LPERMNO'].astype(str).sort_values()\n",
    "(d >= d.shift(1)).sum()\n"
   ],
   "metadata": {
    "collapsed": false,
    "pycharm": {
     "name": "#%%\n"
    }
   }
  },
  {
   "cell_type": "code",
   "execution_count": 64,
   "outputs": [
    {
     "data": {
      "text/plain": "14368     10006\n14443     10006\n14433     10006\n14422     10006\n14420     10006\n          ...  \n558542    90335\n558555    90335\n558372    90335\n558447    90335\n556901    90335\nName: LPERMNO, Length: 600000, dtype: object"
     },
     "execution_count": 64,
     "metadata": {},
     "output_type": "execute_result"
    }
   ],
   "source": [
    "d"
   ],
   "metadata": {
    "collapsed": false,
    "pycharm": {
     "name": "#%%\n"
    }
   }
  },
  {
   "cell_type": "code",
   "execution_count": null,
   "outputs": [],
   "source": [],
   "metadata": {
    "collapsed": false,
    "pycharm": {
     "name": "#%%\n"
    }
   }
  }
 ],
 "metadata": {
  "kernelspec": {
   "name": "pycharm-a332e2f3",
   "language": "python",
   "display_name": "PyCharm (equity-db)"
  },
  "language_info": {
   "codemirror_mode": {
    "name": "ipython",
    "version": 2
   },
   "file_extension": ".py",
   "mimetype": "text/x-python",
   "name": "python",
   "nbconvert_exporter": "python",
   "pygments_lexer": "ipython2",
   "version": "2.7.6"
  }
 },
 "nbformat": 4,
 "nbformat_minor": 0
}