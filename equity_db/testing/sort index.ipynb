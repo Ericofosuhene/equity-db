{
 "cells": [
  {
   "cell_type": "code",
   "execution_count": 5,
   "metadata": {
    "collapsed": true
   },
   "outputs": [],
   "source": [
    "import pandas as pd\n",
    "from equity_db.variables.crsp_variables import CRSPVariables"
   ]
  },
  {
   "cell_type": "code",
   "execution_count": 6,
   "outputs": [],
   "source": [
    "var = CRSPVariables()"
   ],
   "metadata": {
    "collapsed": false,
    "pycharm": {
     "name": "#%%\n"
    }
   }
  },
  {
   "cell_type": "code",
   "execution_count": 7,
   "outputs": [],
   "source": [
    "data = pd.read_csv('/Users/alex/Desktop/full crsp.csv', low_memory=True, dtype=var.make_dtypes())"
   ],
   "metadata": {
    "collapsed": false,
    "pycharm": {
     "name": "#%%\n"
    }
   }
  },
  {
   "cell_type": "code",
   "execution_count": 8,
   "outputs": [],
   "source": [
    "data.columns = [x.lower() for x in data.columns]\n",
    "data['lpermno'] = data['lpermno'].astype(str)\n",
    "data = data.sort_values('lpermno').drop('unnamed: 0', axis=1)"
   ],
   "metadata": {
    "collapsed": false,
    "pycharm": {
     "name": "#%%\n"
    }
   }
  },
  {
   "cell_type": "code",
   "execution_count": 12,
   "outputs": [],
   "source": [
    "cols = list(data.columns)\n",
    "cols.remove(var.identifier)\n",
    "data = data[[var.identifier] + cols]"
   ],
   "metadata": {
    "collapsed": false,
    "pycharm": {
     "name": "#%%\n"
    }
   }
  },
  {
   "cell_type": "code",
   "execution_count": 15,
   "outputs": [],
   "source": [
    "data.to_csv('/Users/alex/Documents/GitHub/equity-db/equity_db/testing/crsp.csv', index=False)"
   ],
   "metadata": {
    "collapsed": false,
    "pycharm": {
     "name": "#%%\n"
    }
   }
  },
  {
   "cell_type": "code",
   "execution_count": 14,
   "outputs": [
    {
     "data": {
      "text/plain": "     lpermno   gvkey linkprim liid linktype lpermco    linkdt linkenddt iid  \\\n0      10001  012994        P   01       LC    7953  19860109  20170831  01   \n5314   10001  012994        P   01       LC    7953  19860109  20170831  01   \n5313   10001  012994        P   01       LC    7953  19860109  20170831  01   \n5312   10001  012994        P   01       LC    7953  19860109  20170831  01   \n5311   10001  012994        P   01       LC    7953  19860109  20170831  01   \n\n      datadate  ... priusa   sic spcindcd spcseccd  spcsrc  state  stko  \\\n0     20000210  ...     01  4924      710      700       B     OH     0   \n5314  20130117  ...     01  4924      710      700       B     OH     0   \n5313  20121123  ...     01  4924      710      700       B     OH     0   \n5312  20130122  ...     01  4924      710      700       B     OH     0   \n5311  20130311  ...     01  4924      710      700       B     OH     0   \n\n             weburl     dldte  ipodate  \n0     www.huinc.net  20170804      NaN  \n5314  www.huinc.net  20170804      NaN  \n5313  www.huinc.net  20170804      NaN  \n5312  www.huinc.net  20170804      NaN  \n5311  www.huinc.net  20170804      NaN  \n\n[5 rows x 83 columns]",
      "text/html": "<div>\n<style scoped>\n    .dataframe tbody tr th:only-of-type {\n        vertical-align: middle;\n    }\n\n    .dataframe tbody tr th {\n        vertical-align: top;\n    }\n\n    .dataframe thead th {\n        text-align: right;\n    }\n</style>\n<table border=\"1\" class=\"dataframe\">\n  <thead>\n    <tr style=\"text-align: right;\">\n      <th></th>\n      <th>lpermno</th>\n      <th>gvkey</th>\n      <th>linkprim</th>\n      <th>liid</th>\n      <th>linktype</th>\n      <th>lpermco</th>\n      <th>linkdt</th>\n      <th>linkenddt</th>\n      <th>iid</th>\n      <th>datadate</th>\n      <th>...</th>\n      <th>priusa</th>\n      <th>sic</th>\n      <th>spcindcd</th>\n      <th>spcseccd</th>\n      <th>spcsrc</th>\n      <th>state</th>\n      <th>stko</th>\n      <th>weburl</th>\n      <th>dldte</th>\n      <th>ipodate</th>\n    </tr>\n  </thead>\n  <tbody>\n    <tr>\n      <th>0</th>\n      <td>10001</td>\n      <td>012994</td>\n      <td>P</td>\n      <td>01</td>\n      <td>LC</td>\n      <td>7953</td>\n      <td>19860109</td>\n      <td>20170831</td>\n      <td>01</td>\n      <td>20000210</td>\n      <td>...</td>\n      <td>01</td>\n      <td>4924</td>\n      <td>710</td>\n      <td>700</td>\n      <td>B</td>\n      <td>OH</td>\n      <td>0</td>\n      <td>www.huinc.net</td>\n      <td>20170804</td>\n      <td>NaN</td>\n    </tr>\n    <tr>\n      <th>5314</th>\n      <td>10001</td>\n      <td>012994</td>\n      <td>P</td>\n      <td>01</td>\n      <td>LC</td>\n      <td>7953</td>\n      <td>19860109</td>\n      <td>20170831</td>\n      <td>01</td>\n      <td>20130117</td>\n      <td>...</td>\n      <td>01</td>\n      <td>4924</td>\n      <td>710</td>\n      <td>700</td>\n      <td>B</td>\n      <td>OH</td>\n      <td>0</td>\n      <td>www.huinc.net</td>\n      <td>20170804</td>\n      <td>NaN</td>\n    </tr>\n    <tr>\n      <th>5313</th>\n      <td>10001</td>\n      <td>012994</td>\n      <td>P</td>\n      <td>01</td>\n      <td>LC</td>\n      <td>7953</td>\n      <td>19860109</td>\n      <td>20170831</td>\n      <td>01</td>\n      <td>20121123</td>\n      <td>...</td>\n      <td>01</td>\n      <td>4924</td>\n      <td>710</td>\n      <td>700</td>\n      <td>B</td>\n      <td>OH</td>\n      <td>0</td>\n      <td>www.huinc.net</td>\n      <td>20170804</td>\n      <td>NaN</td>\n    </tr>\n    <tr>\n      <th>5312</th>\n      <td>10001</td>\n      <td>012994</td>\n      <td>P</td>\n      <td>01</td>\n      <td>LC</td>\n      <td>7953</td>\n      <td>19860109</td>\n      <td>20170831</td>\n      <td>01</td>\n      <td>20130122</td>\n      <td>...</td>\n      <td>01</td>\n      <td>4924</td>\n      <td>710</td>\n      <td>700</td>\n      <td>B</td>\n      <td>OH</td>\n      <td>0</td>\n      <td>www.huinc.net</td>\n      <td>20170804</td>\n      <td>NaN</td>\n    </tr>\n    <tr>\n      <th>5311</th>\n      <td>10001</td>\n      <td>012994</td>\n      <td>P</td>\n      <td>01</td>\n      <td>LC</td>\n      <td>7953</td>\n      <td>19860109</td>\n      <td>20170831</td>\n      <td>01</td>\n      <td>20130311</td>\n      <td>...</td>\n      <td>01</td>\n      <td>4924</td>\n      <td>710</td>\n      <td>700</td>\n      <td>B</td>\n      <td>OH</td>\n      <td>0</td>\n      <td>www.huinc.net</td>\n      <td>20170804</td>\n      <td>NaN</td>\n    </tr>\n  </tbody>\n</table>\n<p>5 rows × 83 columns</p>\n</div>"
     },
     "execution_count": 14,
     "metadata": {},
     "output_type": "execute_result"
    }
   ],
   "source": [
    "data.head()"
   ],
   "metadata": {
    "collapsed": false,
    "pycharm": {
     "name": "#%%\n"
    }
   }
  },
  {
   "cell_type": "code",
   "execution_count": null,
   "outputs": [],
   "source": [
    "\n",
    "import dask"
   ],
   "metadata": {
    "collapsed": false,
    "pycharm": {
     "name": "#%%\n"
    }
   }
  }
 ],
 "metadata": {
  "kernelspec": {
   "display_name": "Python 3",
   "language": "python",
   "name": "python3"
  },
  "language_info": {
   "codemirror_mode": {
    "name": "ipython",
    "version": 2
   },
   "file_extension": ".py",
   "mimetype": "text/x-python",
   "name": "python",
   "nbconvert_exporter": "python",
   "pygments_lexer": "ipython2",
   "version": "2.7.6"
  }
 },
 "nbformat": 4,
 "nbformat_minor": 0
}