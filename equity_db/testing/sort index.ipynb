{
 "cells": [
  {
   "cell_type": "code",
   "execution_count": 6,
   "metadata": {
    "collapsed": true
   },
   "outputs": [],
   "source": [
    "import pandas as pd\n",
    "from equity_db.variables.compusat_variables import CompustatVariables"
   ]
  },
  {
   "cell_type": "code",
   "execution_count": 17,
   "outputs": [],
   "source": [
    "var = CompustatVariables()"
   ],
   "metadata": {
    "collapsed": false,
    "pycharm": {
     "name": "#%%\n"
    }
   }
  },
  {
   "cell_type": "code",
   "execution_count": 18,
   "outputs": [],
   "source": [
    "data = pd.read_csv('/Users/alex/Desktop/full compustat.csv', low_memory=True, dtype=var.make_dtypes())"
   ],
   "metadata": {
    "collapsed": false,
    "pycharm": {
     "name": "#%%\n"
    }
   }
  },
  {
   "cell_type": "code",
   "execution_count": 19,
   "outputs": [],
   "source": [
    "data.columns = [x.lower() for x in data.columns]\n",
    "data['lpermno'] = data['lpermno'].astype(str)\n",
    "data = data.sort_values('lpermno')"
   ],
   "metadata": {
    "collapsed": false,
    "pycharm": {
     "name": "#%%\n"
    }
   }
  },
  {
   "cell_type": "code",
   "execution_count": 20,
   "outputs": [],
   "source": [
    "cols = list(data.columns)\n",
    "cols.remove(var.identifier)\n",
    "data = data[[var.identifier] + cols]"
   ],
   "metadata": {
    "collapsed": false,
    "pycharm": {
     "name": "#%%\n"
    }
   }
  },
  {
   "cell_type": "code",
   "execution_count": 21,
   "outputs": [],
   "source": [
    "data.to_csv('/Users/alex/Desktop/full compustat.csv', index=False)"
   ],
   "metadata": {
    "collapsed": false,
    "pycharm": {
     "name": "#%%\n"
    }
   }
  },
  {
   "cell_type": "code",
   "execution_count": 22,
   "outputs": [
    {
     "data": {
      "text/plain": "       lpermno   gvkey linkprim liid linktype lpermco    linkdt linkenddt  \\\n378683   10000  013007        P   01       LU    7952  19860107  19870630   \n378678   10000  013007        P   01       LU    7952  19860107  19870630   \n378679   10000  013007        P   01       LU    7952  19860107  19870630   \n378682   10000  013007        P   01       LU    7952  19860107  19870630   \n378681   10000  013007        P   01       LU    7952  19860107  19870630   \n\n        datadate  fyearq  ...  priusa   sic spcindcd spcseccd spcsrc state  \\\n378683  19870430  1987.0  ...      01  3942      475      976    NaN    CO   \n378678  19860131  1986.0  ...      01  3942      475      976    NaN    CO   \n378679  19860430  1986.0  ...      01  3942      475      976    NaN    CO   \n378682  19870131  1987.0  ...      01  3942      475      976    NaN    CO   \n378681  19861031  1986.0  ...      01  3942      475      976    NaN    CO   \n\n       stko weburl     dldte   ipodate  \n378683    0    NaN  19890930  19860507  \n378678    0    NaN  19890930  19860507  \n378679    0    NaN  19890930  19860507  \n378682    0    NaN  19890930  19860507  \n378681    0    NaN  19890930  19860507  \n\n[5 rows x 687 columns]",
      "text/html": "<div>\n<style scoped>\n    .dataframe tbody tr th:only-of-type {\n        vertical-align: middle;\n    }\n\n    .dataframe tbody tr th {\n        vertical-align: top;\n    }\n\n    .dataframe thead th {\n        text-align: right;\n    }\n</style>\n<table border=\"1\" class=\"dataframe\">\n  <thead>\n    <tr style=\"text-align: right;\">\n      <th></th>\n      <th>lpermno</th>\n      <th>gvkey</th>\n      <th>linkprim</th>\n      <th>liid</th>\n      <th>linktype</th>\n      <th>lpermco</th>\n      <th>linkdt</th>\n      <th>linkenddt</th>\n      <th>datadate</th>\n      <th>fyearq</th>\n      <th>...</th>\n      <th>priusa</th>\n      <th>sic</th>\n      <th>spcindcd</th>\n      <th>spcseccd</th>\n      <th>spcsrc</th>\n      <th>state</th>\n      <th>stko</th>\n      <th>weburl</th>\n      <th>dldte</th>\n      <th>ipodate</th>\n    </tr>\n  </thead>\n  <tbody>\n    <tr>\n      <th>378683</th>\n      <td>10000</td>\n      <td>013007</td>\n      <td>P</td>\n      <td>01</td>\n      <td>LU</td>\n      <td>7952</td>\n      <td>19860107</td>\n      <td>19870630</td>\n      <td>19870430</td>\n      <td>1987.0</td>\n      <td>...</td>\n      <td>01</td>\n      <td>3942</td>\n      <td>475</td>\n      <td>976</td>\n      <td>NaN</td>\n      <td>CO</td>\n      <td>0</td>\n      <td>NaN</td>\n      <td>19890930</td>\n      <td>19860507</td>\n    </tr>\n    <tr>\n      <th>378678</th>\n      <td>10000</td>\n      <td>013007</td>\n      <td>P</td>\n      <td>01</td>\n      <td>LU</td>\n      <td>7952</td>\n      <td>19860107</td>\n      <td>19870630</td>\n      <td>19860131</td>\n      <td>1986.0</td>\n      <td>...</td>\n      <td>01</td>\n      <td>3942</td>\n      <td>475</td>\n      <td>976</td>\n      <td>NaN</td>\n      <td>CO</td>\n      <td>0</td>\n      <td>NaN</td>\n      <td>19890930</td>\n      <td>19860507</td>\n    </tr>\n    <tr>\n      <th>378679</th>\n      <td>10000</td>\n      <td>013007</td>\n      <td>P</td>\n      <td>01</td>\n      <td>LU</td>\n      <td>7952</td>\n      <td>19860107</td>\n      <td>19870630</td>\n      <td>19860430</td>\n      <td>1986.0</td>\n      <td>...</td>\n      <td>01</td>\n      <td>3942</td>\n      <td>475</td>\n      <td>976</td>\n      <td>NaN</td>\n      <td>CO</td>\n      <td>0</td>\n      <td>NaN</td>\n      <td>19890930</td>\n      <td>19860507</td>\n    </tr>\n    <tr>\n      <th>378682</th>\n      <td>10000</td>\n      <td>013007</td>\n      <td>P</td>\n      <td>01</td>\n      <td>LU</td>\n      <td>7952</td>\n      <td>19860107</td>\n      <td>19870630</td>\n      <td>19870131</td>\n      <td>1987.0</td>\n      <td>...</td>\n      <td>01</td>\n      <td>3942</td>\n      <td>475</td>\n      <td>976</td>\n      <td>NaN</td>\n      <td>CO</td>\n      <td>0</td>\n      <td>NaN</td>\n      <td>19890930</td>\n      <td>19860507</td>\n    </tr>\n    <tr>\n      <th>378681</th>\n      <td>10000</td>\n      <td>013007</td>\n      <td>P</td>\n      <td>01</td>\n      <td>LU</td>\n      <td>7952</td>\n      <td>19860107</td>\n      <td>19870630</td>\n      <td>19861031</td>\n      <td>1986.0</td>\n      <td>...</td>\n      <td>01</td>\n      <td>3942</td>\n      <td>475</td>\n      <td>976</td>\n      <td>NaN</td>\n      <td>CO</td>\n      <td>0</td>\n      <td>NaN</td>\n      <td>19890930</td>\n      <td>19860507</td>\n    </tr>\n  </tbody>\n</table>\n<p>5 rows × 687 columns</p>\n</div>"
     },
     "execution_count": 22,
     "metadata": {},
     "output_type": "execute_result"
    }
   ],
   "source": [
    "data.head()\n",
    "\n",
    "\n"
   ],
   "metadata": {
    "collapsed": false,
    "pycharm": {
     "name": "#%%\n"
    }
   }
  }
 ],
 "metadata": {
  "kernelspec": {
   "display_name": "Python 3",
   "language": "python",
   "name": "python3"
  },
  "language_info": {
   "codemirror_mode": {
    "name": "ipython",
    "version": 2
   },
   "file_extension": ".py",
   "mimetype": "text/x-python",
   "name": "python",
   "nbconvert_exporter": "python",
   "pygments_lexer": "ipython2",
   "version": "2.7.6"
  }
 },
 "nbformat": 4,
 "nbformat_minor": 0
}