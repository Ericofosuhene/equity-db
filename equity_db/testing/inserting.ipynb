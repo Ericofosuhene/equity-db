{
 "cells": [
  {
   "cell_type": "code",
   "execution_count": 1,
   "metadata": {
    "collapsed": true
   },
   "outputs": [],
   "source": [
    "import time\n",
    "import pandas as pd\n",
    "from multiprocessing import Pool\n",
    "from equity_db.api.mongo_connection import MongoAPI\n",
    "from equity_db.variables.crsp_variables import CRSPVariables\n"
   ]
  },
  {
   "cell_type": "code",
   "execution_count": 2,
   "outputs": [
    {
     "name": "stderr",
     "output_type": "stream",
     "text": [
      "/Library/Frameworks/Python.framework/Versions/3.9/lib/python3.9/site-packages/IPython/core/interactiveshell.py:3146: DtypeWarning: Columns (19) have mixed types.Specify dtype option on import or set low_memory=False.\n",
      "  has_raised = await self.run_ast_nodes(code_ast.body, cell_name,\n"
     ]
    }
   ],
   "source": [
    "from equity_db.write.insert_to_db import InsertIntoDB\n",
    "crsp = pd.read_csv('crsp.csv', nrows=500_000)\n",
    "crsp.columns = [x.lower() for x in crsp.columns]"
   ],
   "metadata": {
    "collapsed": false,
    "pycharm": {
     "name": "#%%\n"
    }
   }
  },
  {
   "cell_type": "code",
   "execution_count": 3,
   "outputs": [],
   "source": [
    "# utility function to change types and format df\n",
    "# inserting function that is paralyzed"
   ],
   "metadata": {
    "collapsed": false,
    "pycharm": {
     "name": "#%%\n"
    }
   }
  },
  {
   "cell_type": "code",
   "execution_count": 4,
   "outputs": [],
   "source": [
    "data = crsp\n",
    "data = data.set_index('lpermno')\n",
    "#data.info()"
   ],
   "metadata": {
    "collapsed": false,
    "pycharm": {
     "name": "#%%\n"
    }
   }
  },
  {
   "cell_type": "code",
   "execution_count": 7,
   "outputs": [
    {
     "name": "stderr",
     "output_type": "stream",
     "text": [
      "100%|██████████| 16/16 [00:01<00:00, 14.12it/s]\n",
      "100%|██████████| 7/7 [00:00<00:00, 247.58it/s]\n"
     ]
    },
    {
     "name": "stdout",
     "output_type": "stream",
     "text": [
      "Adjusting static data\n",
      "Adjusting timeseries data\n",
      "<class 'pandas.core.frame.DataFrame'>\n",
      "Int64Index: 500000 entries, 54594 to 85908\n",
      "Data columns (total 23 columns):\n",
      " #   Column     Non-Null Count   Dtype         \n",
      "---  ------     --------------   -----         \n",
      " 0   gvkey      500000 non-null  category      \n",
      " 1   linkprim   500000 non-null  category      \n",
      " 2   liid       500000 non-null  category      \n",
      " 3   linktype   500000 non-null  category      \n",
      " 4   lpermco    500000 non-null  category      \n",
      " 5   linkdt     500000 non-null  datetime64[ns]\n",
      " 6   linkenddt  500000 non-null  object        \n",
      " 7   iid        500000 non-null  object        \n",
      " 8   datadate   500000 non-null  datetime64[ns]\n",
      " 9   tic        500000 non-null  category      \n",
      " 10  cusip      500000 non-null  category      \n",
      " 11  conm       500000 non-null  category      \n",
      " 12  ajexdi     499950 non-null  float64       \n",
      " 13  prccd      499950 non-null  float64       \n",
      " 14  prchd      499950 non-null  float64       \n",
      " 15  prcld      499950 non-null  float64       \n",
      " 16  prcod      490447 non-null  float64       \n",
      " 17  exchg      500000 non-null  category      \n",
      " 18  tpci       500000 non-null  category      \n",
      " 19  cik        500000 non-null  category      \n",
      " 20  add1       500000 non-null  category      \n",
      " 21  weburl     500000 non-null  category      \n",
      " 22  ipodate    48930 non-null   datetime64[ns]\n",
      "dtypes: category(13), datetime64[ns](3), float64(5), object(2)\n",
      "memory usage: 52.1+ MB\n"
     ]
    }
   ],
   "source": [
    "ins = InsertIntoDB(MongoAPI('test'))\n",
    "data = ins.prep_data_for_format_and_insert(data, 'crsp', '%Y%m%d')\n",
    "data.info()"
   ],
   "metadata": {
    "collapsed": false,
    "pycharm": {
     "name": "#%%\n"
    }
   }
  },
  {
   "cell_type": "code",
   "execution_count": null,
   "outputs": [],
   "source": [
    "variables = CRSPVariables()\n",
    "static_cols = set(variables.static).intersection(set(data.columns))\n",
    "timeseries_cols = set(variables.timeseries).intersection(set(data.columns))\n",
    "#\n",
    "# for col in static_cols:\n",
    "#     if variables.get_type(col) == 'double':\n",
    "#         data[col] = data[col].astype(int).astype(str).astype(\"category\")\n",
    "#\n",
    "#     else:\n",
    "#         data[col] = data[col].astype(str).astype(\"category\")\n",
    "#\n",
    "# for col in timeseries_cols:\n",
    "#     try:\n",
    "#         data[col] = data[col].astype(float)\n",
    "#\n",
    "#     except Exception:\n",
    "#         print(col)"
   ],
   "metadata": {
    "collapsed": false,
    "pycharm": {
     "name": "#%%\n"
    }
   }
  },
  {
   "cell_type": "code",
   "execution_count": 6,
   "outputs": [
    {
     "name": "stdout",
     "output_type": "stream",
     "text": [
      "<class 'pandas.core.frame.DataFrame'>\n",
      "Int64Index: 500000 entries, 54594 to 85908\n",
      "Data columns (total 23 columns):\n",
      " #   Column     Non-Null Count   Dtype  \n",
      "---  ------     --------------   -----  \n",
      " 0   gvkey      500000 non-null  int64  \n",
      " 1   linkprim   500000 non-null  object \n",
      " 2   liid       500000 non-null  int64  \n",
      " 3   linktype   500000 non-null  object \n",
      " 4   lpermco    500000 non-null  int64  \n",
      " 5   linkdt     500000 non-null  int64  \n",
      " 6   linkenddt  500000 non-null  object \n",
      " 7   iid        500000 non-null  int64  \n",
      " 8   datadate   500000 non-null  int64  \n",
      " 9   tic        500000 non-null  object \n",
      " 10  cusip      500000 non-null  object \n",
      " 11  conm       500000 non-null  object \n",
      " 12  ajexdi     499950 non-null  float64\n",
      " 13  prccd      499950 non-null  float64\n",
      " 14  prchd      499950 non-null  float64\n",
      " 15  prcld      499950 non-null  float64\n",
      " 16  prcod      490447 non-null  float64\n",
      " 17  exchg      500000 non-null  int64  \n",
      " 18  tpci       500000 non-null  object \n",
      " 19  cik        499139 non-null  float64\n",
      " 20  add1       500000 non-null  object \n",
      " 21  weburl     493005 non-null  object \n",
      " 22  ipodate    48930 non-null   float64\n",
      "dtypes: float64(7), int64(7), object(9)\n",
      "memory usage: 91.6+ MB\n"
     ]
    }
   ],
   "source": [
    "data.info()"
   ],
   "metadata": {
    "collapsed": false,
    "pycharm": {
     "name": "#%%\n"
    }
   }
  },
  {
   "cell_type": "code",
   "execution_count": null,
   "outputs": [],
   "source": [
    "# paralyze formatting and inserting\n",
    "# insert in batches\n",
    "api = MongoAPI('test')\n",
    "\n",
    "\n",
    "def paralized_format(input_tuple):\n",
    "    ids, df = input_tuple\n",
    "    list_of_docs = []\n",
    "    for asset_id in ids:  # will print progress bar\n",
    "\n",
    "        # formatting the document data for a single asset at a time\n",
    "        data_tick = df.loc[asset_id]\n",
    "        static_df = data_tick.iloc[0].to_frame().reindex(static_cols)\n",
    "\n",
    "        ticker_dict = list(static_df.to_dict().values())[0]\n",
    "        ticker_dict['lpermno'] = asset_id\n",
    "        ticker_dict['timeseries'] = list(data_tick[timeseries_cols].reset_index().to_dict('index').values())\n",
    "        list_of_docs.append(ticker_dict)\n",
    "\n",
    "    print('inserting')\n",
    "    MongoAPI('test').batch_insert('crsp', list_of_docs)\n",
    "    del list_of_docs\n",
    "    # gc.collect()\n"
   ],
   "metadata": {
    "collapsed": false,
    "pycharm": {
     "name": "#%%\n"
    }
   }
  },
  {
   "cell_type": "code",
   "execution_count": null,
   "outputs": [],
   "source": [
    "\n",
    "def chunks(d, chunk_size):\n",
    "    id_list = sorted(d.index.unique().tolist())\n",
    "    d = d.sort_index()\n",
    "    for i in range(0, len(id_list), chunk_size):\n",
    "        chunk = id_list[i:i + chunk_size]\n",
    "        yield chunk, d.loc[chunk[0]:chunk[-1]]\n",
    "\n",
    "#pd.concat([x[1] for x in chunks(data, 100)])"
   ],
   "metadata": {
    "collapsed": false,
    "pycharm": {
     "name": "#%%\n"
    }
   }
  },
  {
   "cell_type": "code",
   "execution_count": null,
   "outputs": [],
   "source": [
    "time2s = time.time()\n",
    "c = chunks(data, 300)\n",
    "with Pool() as pool:\n",
    "        out = pool.map(paralized_format, c, chunksize=1)\n",
    "\n",
    "print(time.time() - time2s)\n"
   ],
   "metadata": {
    "collapsed": false,
    "pycharm": {
     "name": "#%%\n"
    }
   }
  },
  {
   "cell_type": "code",
   "execution_count": null,
   "outputs": [],
   "source": [
    "import multiprocessing as mp\n",
    "import numpy as np\n",
    "import tqdm\n",
    "from itertools import repeat\n",
    "from multiprocessing import Process, Manager\n",
    "from multiprocessing import Pool\n",
    "import pandas as pd\n",
    "\n",
    "num_partitions = mp.cpu_count()\n",
    "manager = Manager()\n",
    "d = manager.dict()\n",
    "c = chunks(data, 300)\n",
    "pool = Pool(num_partitions)\n",
    "shared_arg = repeat(d,num_partitions)\n",
    "pool.map(paralized_format, c)\n",
    "\n",
    "pool.close()\n",
    "pool.join()"
   ],
   "metadata": {
    "collapsed": false,
    "pycharm": {
     "name": "#%%\n"
    }
   }
  },
  {
   "cell_type": "code",
   "execution_count": null,
   "outputs": [],
   "source": [],
   "metadata": {
    "collapsed": false,
    "pycharm": {
     "name": "#%%\n"
    }
   }
  }
 ],
 "metadata": {
  "kernelspec": {
   "display_name": "Python 3",
   "language": "python",
   "name": "python3"
  },
  "language_info": {
   "codemirror_mode": {
    "name": "ipython",
    "version": 2
   },
   "file_extension": ".py",
   "mimetype": "text/x-python",
   "name": "python",
   "nbconvert_exporter": "python",
   "pygments_lexer": "ipython2",
   "version": "2.7.6"
  }
 },
 "nbformat": 4,
 "nbformat_minor": 0
}