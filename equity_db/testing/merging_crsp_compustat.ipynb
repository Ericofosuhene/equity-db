{
 "cells": [
  {
   "cell_type": "code",
   "execution_count": 1,
   "metadata": {
    "collapsed": true
   },
   "outputs": [],
   "source": [
    "import pandas as pd\n",
    "import gc\n",
    "from tqdm import tqdm"
   ]
  },
  {
   "cell_type": "code",
   "execution_count": 2,
   "outputs": [
    {
     "name": "stderr",
     "output_type": "stream",
     "text": [
      "/Library/Frameworks/Python.framework/Versions/3.9/lib/python3.9/site-packages/IPython/core/interactiveshell.py:3146: DtypeWarning: Columns (19) have mixed types.Specify dtype option on import or set low_memory=False.\n",
      "  has_raised = await self.run_ast_nodes(code_ast.body, cell_name,\n"
     ]
    },
    {
     "name": "stdout",
     "output_type": "stream",
     "text": [
      "<class 'pandas.core.frame.DataFrame'>\n",
      "RangeIndex: 8353217 entries, 0 to 8353216\n",
      "Data columns (total 24 columns):\n",
      " #   Column     Dtype  \n",
      "---  ------     -----  \n",
      " 0   GVKEY      int64  \n",
      " 1   LINKPRIM   object \n",
      " 2   LIID       int64  \n",
      " 3   LINKTYPE   object \n",
      " 4   LPERMNO    int64  \n",
      " 5   LPERMCO    int64  \n",
      " 6   LINKDT     int64  \n",
      " 7   LINKENDDT  object \n",
      " 8   iid        int64  \n",
      " 9   datadate   int64  \n",
      " 10  tic        object \n",
      " 11  cusip      object \n",
      " 12  conm       object \n",
      " 13  ajexdi     float64\n",
      " 14  prccd      float64\n",
      " 15  prchd      float64\n",
      " 16  prcld      float64\n",
      " 17  prcod      float64\n",
      " 18  exchg      int64  \n",
      " 19  tpci       object \n",
      " 20  cik        float64\n",
      " 21  add1       object \n",
      " 22  weburl     object \n",
      " 23  ipodate    float64\n",
      "dtypes: float64(7), int64(8), object(9)\n",
      "memory usage: 1.5+ GB\n"
     ]
    }
   ],
   "source": [
    "comp = pd.read_csv('compustat.csv')\n",
    "crsp = pd.read_csv('crsp.csv')\n",
    "\n",
    "crsp.info()"
   ],
   "metadata": {
    "collapsed": false,
    "pycharm": {
     "name": "#%%\n"
    }
   }
  },
  {
   "cell_type": "code",
   "execution_count": 3,
   "outputs": [
    {
     "data": {
      "text/plain": "14"
     },
     "execution_count": 3,
     "metadata": {},
     "output_type": "execute_result"
    }
   ],
   "source": [
    "# removing duplicate columns\n",
    "\n",
    "for col in crsp:\n",
    "    if col in ['LPERMNO', 'datadate']:\n",
    "        continue\n",
    "    elif col in comp.columns:\n",
    "        del comp[col]\n",
    "\n",
    "gc.collect()\n"
   ],
   "metadata": {
    "collapsed": false,
    "pycharm": {
     "name": "#%%\n"
    }
   }
  },
  {
   "cell_type": "code",
   "execution_count": 4,
   "outputs": [
    {
     "data": {
      "text/plain": "<AxesSubplot:>"
     },
     "execution_count": 4,
     "metadata": {},
     "output_type": "execute_result"
    },
    {
     "data": {
      "text/plain": "<Figure size 432x288 with 1 Axes>",
      "image/png": "[encoded data removed]"
     },
     "metadata": {
      "needs_background": "light"
     },
     "output_type": "display_data"
    }
   ],
   "source": [
    "# looking at the distribution of weekdays for the compustat dataset\n",
    "pd.to_datetime(comp['datadate'], format='%Y%m%d').dt.dayofweek.hist()\n"
   ],
   "metadata": {
    "collapsed": false,
    "pycharm": {
     "name": "#%%\n"
    }
   }
  },
  {
   "cell_type": "code",
   "execution_count": 5,
   "outputs": [],
   "source": [
    "linked = crsp.join(comp.set_index(['LPERMNO', 'datadate']), on=['LPERMNO', 'datadate'])"
   ],
   "metadata": {
    "collapsed": false,
    "pycharm": {
     "name": "#%%\n"
    }
   }
  },
  {
   "cell_type": "code",
   "execution_count": 6,
   "outputs": [
    {
     "name": "stdout",
     "output_type": "stream",
     "text": [
      "<class 'pandas.core.frame.DataFrame'>\n",
      "Int64Index: 8353233 entries, 0 to 8353216\n",
      "Data columns (total 44 columns):\n",
      " #   Column     Dtype  \n",
      "---  ------     -----  \n",
      " 0   GVKEY      int64  \n",
      " 1   LINKPRIM   object \n",
      " 2   LIID       int64  \n",
      " 3   LINKTYPE   object \n",
      " 4   LPERMNO    int64  \n",
      " 5   LPERMCO    int64  \n",
      " 6   LINKDT     int64  \n",
      " 7   LINKENDDT  object \n",
      " 8   iid        int64  \n",
      " 9   datadate   int64  \n",
      " 10  tic        object \n",
      " 11  cusip      object \n",
      " 12  conm       object \n",
      " 13  ajexdi     float64\n",
      " 14  prccd      float64\n",
      " 15  prchd      float64\n",
      " 16  prcld      float64\n",
      " 17  prcod      float64\n",
      " 18  exchg      int64  \n",
      " 19  tpci       object \n",
      " 20  cik        float64\n",
      " 21  add1       object \n",
      " 22  weburl     object \n",
      " 23  ipodate    float64\n",
      " 24  fyearq     float64\n",
      " 25  fqtr       float64\n",
      " 26  fyr        float64\n",
      " 27  indfmt     object \n",
      " 28  consol     object \n",
      " 29  popsrc     object \n",
      " 30  datafmt    object \n",
      " 31  ajexq      float64\n",
      " 32  ajpq       float64\n",
      " 33  curcdq     object \n",
      " 34  datacqtr   object \n",
      " 35  datafqtr   object \n",
      " 36  pdateq     float64\n",
      " 37  rdq        float64\n",
      " 38  acoq       float64\n",
      " 39  actq       float64\n",
      " 40  dlcq       float64\n",
      " 41  dlttq      float64\n",
      " 42  gdwlamq    float64\n",
      " 43  costat     object \n",
      "dtypes: float64(19), int64(8), object(17)\n",
      "memory usage: 2.8+ GB\n"
     ]
    }
   ],
   "source": [
    "linked.info()"
   ],
   "metadata": {
    "collapsed": false,
    "pycharm": {
     "name": "#%%\n"
    }
   }
  },
  {
   "cell_type": "code",
   "execution_count": 7,
   "outputs": [],
   "source": [
    "# the link is bad currently must figure out the date to link on for compustat\n",
    "# ignoring for now as not currently important, want to see how the import will work with sparse data currently"
   ],
   "metadata": {
    "collapsed": false,
    "pycharm": {
     "name": "#%%\n"
    }
   }
  },
  {
   "cell_type": "code",
   "execution_count": 8,
   "outputs": [
    {
     "name": "stderr",
     "output_type": "stream",
     "text": [
      " 78%|███████▊  | 392/500 [00:03<00:00, 114.23it/s]\n"
     ]
    },
    {
     "name": "stdout",
     "output_type": "stream",
     "text": [
      "formatting\n"
     ]
    },
    {
     "ename": "KeyboardInterrupt",
     "evalue": "",
     "output_type": "error",
     "traceback": [
      "\u001B[0;31m---------------------------------------------------------------------------\u001B[0m",
      "\u001B[0;31mKeyboardInterrupt\u001B[0m                         Traceback (most recent call last)",
      "\u001B[0;32m<ipython-input-8-9ebeb4678e87>\u001B[0m in \u001B[0;36m<module>\u001B[0;34m\u001B[0m\n\u001B[1;32m      8\u001B[0m \u001B[0;32mfor\u001B[0m \u001B[0mticker\u001B[0m \u001B[0;32min\u001B[0m \u001B[0mtqdm\u001B[0m\u001B[0;34m(\u001B[0m\u001B[0mid_list\u001B[0m\u001B[0;34m)\u001B[0m\u001B[0;34m:\u001B[0m  \u001B[0;31m# will print progress bar\u001B[0m\u001B[0;34m\u001B[0m\u001B[0;34m\u001B[0m\u001B[0m\n\u001B[1;32m      9\u001B[0m     \u001B[0;31m# formatting the document data for a single asset at a time\u001B[0m\u001B[0;34m\u001B[0m\u001B[0;34m\u001B[0m\u001B[0;34m\u001B[0m\u001B[0m\n\u001B[0;32m---> 10\u001B[0;31m     \u001B[0mdata_tick\u001B[0m \u001B[0;34m=\u001B[0m \u001B[0mdata\u001B[0m\u001B[0;34m.\u001B[0m\u001B[0mxs\u001B[0m\u001B[0;34m(\u001B[0m\u001B[0mticker\u001B[0m\u001B[0;34m,\u001B[0m \u001B[0mlevel\u001B[0m\u001B[0;34m=\u001B[0m\u001B[0;36m1\u001B[0m\u001B[0;34m)\u001B[0m\u001B[0;34m\u001B[0m\u001B[0;34m\u001B[0m\u001B[0m\n\u001B[0m\u001B[1;32m     11\u001B[0m     \u001B[0mstatic_df\u001B[0m \u001B[0;34m=\u001B[0m \u001B[0mdata_tick\u001B[0m\u001B[0;34m.\u001B[0m\u001B[0miloc\u001B[0m\u001B[0;34m[\u001B[0m\u001B[0;36m0\u001B[0m\u001B[0;34m]\u001B[0m\u001B[0;34m.\u001B[0m\u001B[0mto_frame\u001B[0m\u001B[0;34m(\u001B[0m\u001B[0;34m)\u001B[0m\u001B[0;34m.\u001B[0m\u001B[0mreindex\u001B[0m\u001B[0;34m(\u001B[0m\u001B[0;34m[\u001B[0m\u001B[0mstatic_cols\u001B[0m\u001B[0;34m]\u001B[0m\u001B[0;34m)\u001B[0m\u001B[0;34m\u001B[0m\u001B[0;34m\u001B[0m\u001B[0m\n\u001B[1;32m     12\u001B[0m \u001B[0;34m\u001B[0m\u001B[0m\n",
      "\u001B[0;32m/Library/Frameworks/Python.framework/Versions/3.9/lib/python3.9/site-packages/pandas/core/generic.py\u001B[0m in \u001B[0;36mxs\u001B[0;34m(self, key, axis, level, drop_level)\u001B[0m\n\u001B[1;32m   3706\u001B[0m             \u001B[0;32mif\u001B[0m \u001B[0;32mnot\u001B[0m \u001B[0misinstance\u001B[0m\u001B[0;34m(\u001B[0m\u001B[0mlabels\u001B[0m\u001B[0;34m,\u001B[0m \u001B[0mMultiIndex\u001B[0m\u001B[0;34m)\u001B[0m\u001B[0;34m:\u001B[0m\u001B[0;34m\u001B[0m\u001B[0;34m\u001B[0m\u001B[0m\n\u001B[1;32m   3707\u001B[0m                 \u001B[0;32mraise\u001B[0m \u001B[0mTypeError\u001B[0m\u001B[0;34m(\u001B[0m\u001B[0;34m\"Index must be a MultiIndex\"\u001B[0m\u001B[0;34m)\u001B[0m\u001B[0;34m\u001B[0m\u001B[0;34m\u001B[0m\u001B[0m\n\u001B[0;32m-> 3708\u001B[0;31m             \u001B[0mloc\u001B[0m\u001B[0;34m,\u001B[0m \u001B[0mnew_ax\u001B[0m \u001B[0;34m=\u001B[0m \u001B[0mlabels\u001B[0m\u001B[0;34m.\u001B[0m\u001B[0mget_loc_level\u001B[0m\u001B[0;34m(\u001B[0m\u001B[0mkey\u001B[0m\u001B[0;34m,\u001B[0m \u001B[0mlevel\u001B[0m\u001B[0;34m=\u001B[0m\u001B[0mlevel\u001B[0m\u001B[0;34m,\u001B[0m \u001B[0mdrop_level\u001B[0m\u001B[0;34m=\u001B[0m\u001B[0mdrop_level\u001B[0m\u001B[0;34m)\u001B[0m\u001B[0;34m\u001B[0m\u001B[0;34m\u001B[0m\u001B[0m\n\u001B[0m\u001B[1;32m   3709\u001B[0m \u001B[0;34m\u001B[0m\u001B[0m\n\u001B[1;32m   3710\u001B[0m             \u001B[0;31m# create the tuple of the indexer\u001B[0m\u001B[0;34m\u001B[0m\u001B[0;34m\u001B[0m\u001B[0;34m\u001B[0m\u001B[0m\n",
      "\u001B[0;32m/Library/Frameworks/Python.framework/Versions/3.9/lib/python3.9/site-packages/pandas/core/indexes/multi.py\u001B[0m in \u001B[0;36mget_loc_level\u001B[0;34m(self, key, level, drop_level)\u001B[0m\n\u001B[1;32m   2961\u001B[0m         \u001B[0;32melse\u001B[0m\u001B[0;34m:\u001B[0m\u001B[0;34m\u001B[0m\u001B[0;34m\u001B[0m\u001B[0m\n\u001B[1;32m   2962\u001B[0m             \u001B[0mlevel\u001B[0m \u001B[0;34m=\u001B[0m \u001B[0;34m[\u001B[0m\u001B[0mself\u001B[0m\u001B[0;34m.\u001B[0m\u001B[0m_get_level_number\u001B[0m\u001B[0;34m(\u001B[0m\u001B[0mlev\u001B[0m\u001B[0;34m)\u001B[0m \u001B[0;32mfor\u001B[0m \u001B[0mlev\u001B[0m \u001B[0;32min\u001B[0m \u001B[0mlevel\u001B[0m\u001B[0;34m]\u001B[0m\u001B[0;34m\u001B[0m\u001B[0;34m\u001B[0m\u001B[0m\n\u001B[0;32m-> 2963\u001B[0;31m         \u001B[0;32mreturn\u001B[0m \u001B[0mself\u001B[0m\u001B[0;34m.\u001B[0m\u001B[0m_get_loc_level\u001B[0m\u001B[0;34m(\u001B[0m\u001B[0mkey\u001B[0m\u001B[0;34m,\u001B[0m \u001B[0mlevel\u001B[0m\u001B[0;34m=\u001B[0m\u001B[0mlevel\u001B[0m\u001B[0;34m,\u001B[0m \u001B[0mdrop_level\u001B[0m\u001B[0;34m=\u001B[0m\u001B[0mdrop_level\u001B[0m\u001B[0;34m)\u001B[0m\u001B[0;34m\u001B[0m\u001B[0;34m\u001B[0m\u001B[0m\n\u001B[0m\u001B[1;32m   2964\u001B[0m \u001B[0;34m\u001B[0m\u001B[0m\n\u001B[1;32m   2965\u001B[0m     def _get_loc_level(\n",
      "\u001B[0;32m/Library/Frameworks/Python.framework/Versions/3.9/lib/python3.9/site-packages/pandas/core/indexes/multi.py\u001B[0m in \u001B[0;36m_get_loc_level\u001B[0;34m(self, key, level, drop_level)\u001B[0m\n\u001B[1;32m   3065\u001B[0m         \u001B[0;32melse\u001B[0m\u001B[0;34m:\u001B[0m\u001B[0;34m\u001B[0m\u001B[0;34m\u001B[0m\u001B[0m\n\u001B[1;32m   3066\u001B[0m             \u001B[0mindexer\u001B[0m \u001B[0;34m=\u001B[0m \u001B[0mself\u001B[0m\u001B[0;34m.\u001B[0m\u001B[0m_get_level_indexer\u001B[0m\u001B[0;34m(\u001B[0m\u001B[0mkey\u001B[0m\u001B[0;34m,\u001B[0m \u001B[0mlevel\u001B[0m\u001B[0;34m=\u001B[0m\u001B[0mlevel\u001B[0m\u001B[0;34m)\u001B[0m\u001B[0;34m\u001B[0m\u001B[0;34m\u001B[0m\u001B[0m\n\u001B[0;32m-> 3067\u001B[0;31m             \u001B[0;32mreturn\u001B[0m \u001B[0mindexer\u001B[0m\u001B[0;34m,\u001B[0m \u001B[0mmaybe_mi_droplevels\u001B[0m\u001B[0;34m(\u001B[0m\u001B[0mindexer\u001B[0m\u001B[0;34m,\u001B[0m \u001B[0;34m[\u001B[0m\u001B[0mlevel\u001B[0m\u001B[0;34m]\u001B[0m\u001B[0;34m,\u001B[0m \u001B[0mdrop_level\u001B[0m\u001B[0;34m)\u001B[0m\u001B[0;34m\u001B[0m\u001B[0;34m\u001B[0m\u001B[0m\n\u001B[0m\u001B[1;32m   3068\u001B[0m \u001B[0;34m\u001B[0m\u001B[0m\n\u001B[1;32m   3069\u001B[0m     \u001B[0;32mdef\u001B[0m \u001B[0m_get_level_indexer\u001B[0m\u001B[0;34m(\u001B[0m\u001B[0mself\u001B[0m\u001B[0;34m,\u001B[0m \u001B[0mkey\u001B[0m\u001B[0;34m,\u001B[0m \u001B[0mlevel\u001B[0m\u001B[0;34m:\u001B[0m \u001B[0mint\u001B[0m \u001B[0;34m=\u001B[0m \u001B[0;36m0\u001B[0m\u001B[0;34m,\u001B[0m \u001B[0mindexer\u001B[0m\u001B[0;34m=\u001B[0m\u001B[0;32mNone\u001B[0m\u001B[0;34m)\u001B[0m\u001B[0;34m:\u001B[0m\u001B[0;34m\u001B[0m\u001B[0;34m\u001B[0m\u001B[0m\n",
      "\u001B[0;32m/Library/Frameworks/Python.framework/Versions/3.9/lib/python3.9/site-packages/pandas/core/indexes/multi.py\u001B[0m in \u001B[0;36mmaybe_mi_droplevels\u001B[0;34m(indexer, levels, drop_level)\u001B[0m\n\u001B[1;32m   2975\u001B[0m                 \u001B[0;32mreturn\u001B[0m \u001B[0mself\u001B[0m\u001B[0;34m[\u001B[0m\u001B[0mindexer\u001B[0m\u001B[0;34m]\u001B[0m\u001B[0;34m\u001B[0m\u001B[0;34m\u001B[0m\u001B[0m\n\u001B[1;32m   2976\u001B[0m             \u001B[0;31m# kludge around\u001B[0m\u001B[0;34m\u001B[0m\u001B[0;34m\u001B[0m\u001B[0;34m\u001B[0m\u001B[0m\n\u001B[0;32m-> 2977\u001B[0;31m             \u001B[0morig_index\u001B[0m \u001B[0;34m=\u001B[0m \u001B[0mnew_index\u001B[0m \u001B[0;34m=\u001B[0m \u001B[0mself\u001B[0m\u001B[0;34m[\u001B[0m\u001B[0mindexer\u001B[0m\u001B[0;34m]\u001B[0m\u001B[0;34m\u001B[0m\u001B[0;34m\u001B[0m\u001B[0m\n\u001B[0m\u001B[1;32m   2978\u001B[0m \u001B[0;34m\u001B[0m\u001B[0m\n\u001B[1;32m   2979\u001B[0m             \u001B[0;32mfor\u001B[0m \u001B[0mi\u001B[0m \u001B[0;32min\u001B[0m \u001B[0msorted\u001B[0m\u001B[0;34m(\u001B[0m\u001B[0mlevels\u001B[0m\u001B[0;34m,\u001B[0m \u001B[0mreverse\u001B[0m\u001B[0;34m=\u001B[0m\u001B[0;32mTrue\u001B[0m\u001B[0;34m)\u001B[0m\u001B[0;34m:\u001B[0m\u001B[0;34m\u001B[0m\u001B[0;34m\u001B[0m\u001B[0m\n",
      "\u001B[0;32m/Library/Frameworks/Python.framework/Versions/3.9/lib/python3.9/site-packages/pandas/core/indexes/multi.py\u001B[0m in \u001B[0;36m__getitem__\u001B[0;34m(self, key)\u001B[0m\n\u001B[1;32m   2041\u001B[0m                     \u001B[0mkey\u001B[0m \u001B[0;34m=\u001B[0m \u001B[0mnp\u001B[0m\u001B[0;34m.\u001B[0m\u001B[0masarray\u001B[0m\u001B[0;34m(\u001B[0m\u001B[0mkey\u001B[0m\u001B[0;34m)\u001B[0m\u001B[0;34m\u001B[0m\u001B[0;34m\u001B[0m\u001B[0m\n\u001B[1;32m   2042\u001B[0m \u001B[0;34m\u001B[0m\u001B[0m\n\u001B[0;32m-> 2043\u001B[0;31m             \u001B[0mnew_codes\u001B[0m \u001B[0;34m=\u001B[0m \u001B[0;34m[\u001B[0m\u001B[0mlevel_codes\u001B[0m\u001B[0;34m[\u001B[0m\u001B[0mkey\u001B[0m\u001B[0;34m]\u001B[0m \u001B[0;32mfor\u001B[0m \u001B[0mlevel_codes\u001B[0m \u001B[0;32min\u001B[0m \u001B[0mself\u001B[0m\u001B[0;34m.\u001B[0m\u001B[0mcodes\u001B[0m\u001B[0;34m]\u001B[0m\u001B[0;34m\u001B[0m\u001B[0;34m\u001B[0m\u001B[0m\n\u001B[0m\u001B[1;32m   2044\u001B[0m \u001B[0;34m\u001B[0m\u001B[0m\n\u001B[1;32m   2045\u001B[0m             return MultiIndex(\n",
      "\u001B[0;32m/Library/Frameworks/Python.framework/Versions/3.9/lib/python3.9/site-packages/pandas/core/indexes/multi.py\u001B[0m in \u001B[0;36m<listcomp>\u001B[0;34m(.0)\u001B[0m\n\u001B[1;32m   2041\u001B[0m                     \u001B[0mkey\u001B[0m \u001B[0;34m=\u001B[0m \u001B[0mnp\u001B[0m\u001B[0;34m.\u001B[0m\u001B[0masarray\u001B[0m\u001B[0;34m(\u001B[0m\u001B[0mkey\u001B[0m\u001B[0;34m)\u001B[0m\u001B[0;34m\u001B[0m\u001B[0;34m\u001B[0m\u001B[0m\n\u001B[1;32m   2042\u001B[0m \u001B[0;34m\u001B[0m\u001B[0m\n\u001B[0;32m-> 2043\u001B[0;31m             \u001B[0mnew_codes\u001B[0m \u001B[0;34m=\u001B[0m \u001B[0;34m[\u001B[0m\u001B[0mlevel_codes\u001B[0m\u001B[0;34m[\u001B[0m\u001B[0mkey\u001B[0m\u001B[0;34m]\u001B[0m \u001B[0;32mfor\u001B[0m \u001B[0mlevel_codes\u001B[0m \u001B[0;32min\u001B[0m \u001B[0mself\u001B[0m\u001B[0;34m.\u001B[0m\u001B[0mcodes\u001B[0m\u001B[0;34m]\u001B[0m\u001B[0;34m\u001B[0m\u001B[0;34m\u001B[0m\u001B[0m\n\u001B[0m\u001B[1;32m   2044\u001B[0m \u001B[0;34m\u001B[0m\u001B[0m\n\u001B[1;32m   2045\u001B[0m             return MultiIndex(\n",
      "\u001B[0;31mKeyboardInterrupt\u001B[0m: "
     ]
    }
   ],
   "source": [
    "data = crsp.set_index(['datadate', 'LPERMNO'])\n",
    "static_cols = ['GVKEY', 'LINKPRIM', 'weburl', 'ipodate']\n",
    "timeseries_cols = ['prccd']\n",
    "\n",
    "id_list = linked['LPERMNO'].unique()[:500]\n",
    "\n",
    "print('formatting')\n",
    "for ticker in tqdm(id_list):  # will print progress bar\n",
    "    # formatting the document data for a single asset at a time\n",
    "    data_tick = data.xs(ticker, level=1)\n",
    "    static_df = data_tick.iloc[0].to_frame().reindex([static_cols])\n",
    "\n",
    "    ticker_dict = list(static_df.to_dict().values())[0]\n",
    "    ticker_dict['cusip'] = ticker\n",
    "    ticker_dict['timeseries'] = list(data_tick[timeseries_cols].reset_index().to_dict('index').values())\n",
    "    #print(ticker_dict)"
   ],
   "metadata": {
    "collapsed": false,
    "pycharm": {
     "name": "#%%\n"
    }
   }
  },
  {
   "cell_type": "code",
   "execution_count": 65,
   "outputs": [
    {
     "data": {
      "text/plain": "          GVKEY LINKPRIM  LIID LINKTYPE  LPERMNO  LPERMCO    LINKDT LINKENDDT  \\\n0          1004        P     1       LU    54594    20000  19720424         E   \n1          1004        P     1       LU    54594    20000  19720424         E   \n2          1004        P     1       LU    54594    20000  19720424         E   \n3          1004        P     1       LU    54594    20000  19720424         E   \n4          1004        P     1       LU    54594    20000  19720424         E   \n...         ...      ...   ...      ...      ...      ...       ...       ...   \n8353212  345980        P     1       LC    20333    57666  20201216         E   \n8353213  345980        P     1       LC    20333    57666  20201216         E   \n8353214  345980        P     1       LC    20333    57666  20201216         E   \n8353215  345980        P     1       LC    20333    57666  20201216         E   \n8353216  345980        P     1       LC    20333    57666  20201216         E   \n\n         iid  datadate  ... datacqtr datafqtr pdateq  rdq  acoq  actq  dlcq  \\\n0          1  20181121  ...      NaN      NaN    NaN  NaN   NaN   NaN   NaN   \n1          1  20170331  ...      NaN      NaN    NaN  NaN   NaN   NaN   NaN   \n2          1  20190104  ...      NaN      NaN    NaN  NaN   NaN   NaN   NaN   \n3          1  20160404  ...      NaN      NaN    NaN  NaN   NaN   NaN   NaN   \n4          1  20161005  ...      NaN      NaN    NaN  NaN   NaN   NaN   NaN   \n...      ...       ...  ...      ...      ...    ...  ...   ...   ...   ...   \n8353212    1  20201222  ...      NaN      NaN    NaN  NaN   NaN   NaN   NaN   \n8353213    1  20201221  ...      NaN      NaN    NaN  NaN   NaN   NaN   NaN   \n8353214    1  20201218  ...      NaN      NaN    NaN  NaN   NaN   NaN   NaN   \n8353215    1  20201217  ...      NaN      NaN    NaN  NaN   NaN   NaN   NaN   \n8353216    1  20201216  ...      NaN      NaN    NaN  NaN   NaN   NaN   NaN   \n\n         dlttq  gdwlamq costat  \n0          NaN      NaN    NaN  \n1          NaN      NaN    NaN  \n2          NaN      NaN    NaN  \n3          NaN      NaN    NaN  \n4          NaN      NaN    NaN  \n...        ...      ...    ...  \n8353212    NaN      NaN    NaN  \n8353213    NaN      NaN    NaN  \n8353214    NaN      NaN    NaN  \n8353215    NaN      NaN    NaN  \n8353216    NaN      NaN    NaN  \n\n[8353233 rows x 44 columns]",
      "text/html": "<div>\n<style scoped>\n    .dataframe tbody tr th:only-of-type {\n        vertical-align: middle;\n    }\n\n    .dataframe tbody tr th {\n        vertical-align: top;\n    }\n\n    .dataframe thead th {\n        text-align: right;\n    }\n</style>\n<table border=\"1\" class=\"dataframe\">\n  <thead>\n    <tr style=\"text-align: right;\">\n      <th></th>\n      <th>GVKEY</th>\n      <th>LINKPRIM</th>\n      <th>LIID</th>\n      <th>LINKTYPE</th>\n      <th>LPERMNO</th>\n      <th>LPERMCO</th>\n      <th>LINKDT</th>\n      <th>LINKENDDT</th>\n      <th>iid</th>\n      <th>datadate</th>\n      <th>...</th>\n      <th>datacqtr</th>\n      <th>datafqtr</th>\n      <th>pdateq</th>\n      <th>rdq</th>\n      <th>acoq</th>\n      <th>actq</th>\n      <th>dlcq</th>\n      <th>dlttq</th>\n      <th>gdwlamq</th>\n      <th>costat</th>\n    </tr>\n  </thead>\n  <tbody>\n    <tr>\n      <th>0</th>\n      <td>1004</td>\n      <td>P</td>\n      <td>1</td>\n      <td>LU</td>\n      <td>54594</td>\n      <td>20000</td>\n      <td>19720424</td>\n      <td>E</td>\n      <td>1</td>\n      <td>20181121</td>\n      <td>...</td>\n      <td>NaN</td>\n      <td>NaN</td>\n      <td>NaN</td>\n      <td>NaN</td>\n      <td>NaN</td>\n      <td>NaN</td>\n      <td>NaN</td>\n      <td>NaN</td>\n      <td>NaN</td>\n      <td>NaN</td>\n    </tr>\n    <tr>\n      <th>1</th>\n      <td>1004</td>\n      <td>P</td>\n      <td>1</td>\n      <td>LU</td>\n      <td>54594</td>\n      <td>20000</td>\n      <td>19720424</td>\n      <td>E</td>\n      <td>1</td>\n      <td>20170331</td>\n      <td>...</td>\n      <td>NaN</td>\n      <td>NaN</td>\n      <td>NaN</td>\n      <td>NaN</td>\n      <td>NaN</td>\n      <td>NaN</td>\n      <td>NaN</td>\n      <td>NaN</td>\n      <td>NaN</td>\n      <td>NaN</td>\n    </tr>\n    <tr>\n      <th>2</th>\n      <td>1004</td>\n      <td>P</td>\n      <td>1</td>\n      <td>LU</td>\n      <td>54594</td>\n      <td>20000</td>\n      <td>19720424</td>\n      <td>E</td>\n      <td>1</td>\n      <td>20190104</td>\n      <td>...</td>\n      <td>NaN</td>\n      <td>NaN</td>\n      <td>NaN</td>\n      <td>NaN</td>\n      <td>NaN</td>\n      <td>NaN</td>\n      <td>NaN</td>\n      <td>NaN</td>\n      <td>NaN</td>\n      <td>NaN</td>\n    </tr>\n    <tr>\n      <th>3</th>\n      <td>1004</td>\n      <td>P</td>\n      <td>1</td>\n      <td>LU</td>\n      <td>54594</td>\n      <td>20000</td>\n      <td>19720424</td>\n      <td>E</td>\n      <td>1</td>\n      <td>20160404</td>\n      <td>...</td>\n      <td>NaN</td>\n      <td>NaN</td>\n      <td>NaN</td>\n      <td>NaN</td>\n      <td>NaN</td>\n      <td>NaN</td>\n      <td>NaN</td>\n      <td>NaN</td>\n      <td>NaN</td>\n      <td>NaN</td>\n    </tr>\n    <tr>\n      <th>4</th>\n      <td>1004</td>\n      <td>P</td>\n      <td>1</td>\n      <td>LU</td>\n      <td>54594</td>\n      <td>20000</td>\n      <td>19720424</td>\n      <td>E</td>\n      <td>1</td>\n      <td>20161005</td>\n      <td>...</td>\n      <td>NaN</td>\n      <td>NaN</td>\n      <td>NaN</td>\n      <td>NaN</td>\n      <td>NaN</td>\n      <td>NaN</td>\n      <td>NaN</td>\n      <td>NaN</td>\n      <td>NaN</td>\n      <td>NaN</td>\n    </tr>\n    <tr>\n      <th>...</th>\n      <td>...</td>\n      <td>...</td>\n      <td>...</td>\n      <td>...</td>\n      <td>...</td>\n      <td>...</td>\n      <td>...</td>\n      <td>...</td>\n      <td>...</td>\n      <td>...</td>\n      <td>...</td>\n      <td>...</td>\n      <td>...</td>\n      <td>...</td>\n      <td>...</td>\n      <td>...</td>\n      <td>...</td>\n      <td>...</td>\n      <td>...</td>\n      <td>...</td>\n      <td>...</td>\n    </tr>\n    <tr>\n      <th>8353212</th>\n      <td>345980</td>\n      <td>P</td>\n      <td>1</td>\n      <td>LC</td>\n      <td>20333</td>\n      <td>57666</td>\n      <td>20201216</td>\n      <td>E</td>\n      <td>1</td>\n      <td>20201222</td>\n      <td>...</td>\n      <td>NaN</td>\n      <td>NaN</td>\n      <td>NaN</td>\n      <td>NaN</td>\n      <td>NaN</td>\n      <td>NaN</td>\n      <td>NaN</td>\n      <td>NaN</td>\n      <td>NaN</td>\n      <td>NaN</td>\n    </tr>\n    <tr>\n      <th>8353213</th>\n      <td>345980</td>\n      <td>P</td>\n      <td>1</td>\n      <td>LC</td>\n      <td>20333</td>\n      <td>57666</td>\n      <td>20201216</td>\n      <td>E</td>\n      <td>1</td>\n      <td>20201221</td>\n      <td>...</td>\n      <td>NaN</td>\n      <td>NaN</td>\n      <td>NaN</td>\n      <td>NaN</td>\n      <td>NaN</td>\n      <td>NaN</td>\n      <td>NaN</td>\n      <td>NaN</td>\n      <td>NaN</td>\n      <td>NaN</td>\n    </tr>\n    <tr>\n      <th>8353214</th>\n      <td>345980</td>\n      <td>P</td>\n      <td>1</td>\n      <td>LC</td>\n      <td>20333</td>\n      <td>57666</td>\n      <td>20201216</td>\n      <td>E</td>\n      <td>1</td>\n      <td>20201218</td>\n      <td>...</td>\n      <td>NaN</td>\n      <td>NaN</td>\n      <td>NaN</td>\n      <td>NaN</td>\n      <td>NaN</td>\n      <td>NaN</td>\n      <td>NaN</td>\n      <td>NaN</td>\n      <td>NaN</td>\n      <td>NaN</td>\n    </tr>\n    <tr>\n      <th>8353215</th>\n      <td>345980</td>\n      <td>P</td>\n      <td>1</td>\n      <td>LC</td>\n      <td>20333</td>\n      <td>57666</td>\n      <td>20201216</td>\n      <td>E</td>\n      <td>1</td>\n      <td>20201217</td>\n      <td>...</td>\n      <td>NaN</td>\n      <td>NaN</td>\n      <td>NaN</td>\n      <td>NaN</td>\n      <td>NaN</td>\n      <td>NaN</td>\n      <td>NaN</td>\n      <td>NaN</td>\n      <td>NaN</td>\n      <td>NaN</td>\n    </tr>\n    <tr>\n      <th>8353216</th>\n      <td>345980</td>\n      <td>P</td>\n      <td>1</td>\n      <td>LC</td>\n      <td>20333</td>\n      <td>57666</td>\n      <td>20201216</td>\n      <td>E</td>\n      <td>1</td>\n      <td>20201216</td>\n      <td>...</td>\n      <td>NaN</td>\n      <td>NaN</td>\n      <td>NaN</td>\n      <td>NaN</td>\n      <td>NaN</td>\n      <td>NaN</td>\n      <td>NaN</td>\n      <td>NaN</td>\n      <td>NaN</td>\n      <td>NaN</td>\n    </tr>\n  </tbody>\n</table>\n<p>8353233 rows × 44 columns</p>\n</div>"
     },
     "execution_count": 65,
     "metadata": {},
     "output_type": "execute_result"
    }
   ],
   "source": [
    "linked\n"
   ],
   "metadata": {
    "collapsed": false,
    "pycharm": {
     "name": "#%%\n"
    }
   }
  },
  {
   "cell_type": "code",
   "execution_count": null,
   "outputs": [],
   "source": [],
   "metadata": {
    "collapsed": false,
    "pycharm": {
     "name": "#%%\n"
    }
   }
  }
 ],
 "metadata": {
  "kernelspec": {
   "display_name": "Python 3",
   "language": "python",
   "name": "python3"
  },
  "language_info": {
   "codemirror_mode": {
    "name": "ipython",
    "version": 2
   },
   "file_extension": ".py",
   "mimetype": "text/x-python",
   "name": "python",
   "nbconvert_exporter": "python",
   "pygments_lexer": "ipython2",
   "version": "2.7.6"
  }
 },
 "nbformat": 4,
 "nbformat_minor": 0
}