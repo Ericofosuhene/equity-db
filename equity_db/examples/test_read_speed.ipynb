{
 "cells": [
  {
   "cell_type": "markdown",
   "metadata": {
    "collapsed": true,
    "pycharm": {
     "name": "#%% md\n"
    }
   },
   "source": [
    "# Testing Read Times\n",
    "* Will be looking at passing varying numbers of assets and times to the method get_asset_data"
   ]
  },
  {
   "cell_type": "code",
   "execution_count": 1,
   "outputs": [],
   "source": [
    "import pandas as pd\n",
    "\n",
    "from db_access.asset_query import AssetQuery\n",
    "from db_access.db_query import ReadDB\n",
    "from api.mongo_connection import MongoAPI\n",
    "import datetime"
   ],
   "metadata": {
    "collapsed": false,
    "pycharm": {
     "name": "#%%\n"
    }
   }
  },
  {
   "cell_type": "code",
   "execution_count": 2,
   "outputs": [],
   "source": [
    "# making our api connection\n",
    "api = MongoAPI('DS4300')\n",
    "\n",
    "# making our class to construct our queries\n",
    "reader = ReadDB(api)"
   ],
   "metadata": {
    "collapsed": false,
    "pycharm": {
     "name": "#%%\n"
    }
   }
  },
  {
   "cell_type": "code",
   "execution_count": 3,
   "outputs": [
    {
     "data": {
      "text/plain": "       symbol\n0         EIX\n1    1284849D\n2          FE\n3          AA\n4         AXP\n..        ...\n716        IR\n717      POOL\n718       VNT\n719      TSLA\n720       TDY\n\n[721 rows x 1 columns]",
      "text/html": "<div>\n<style scoped>\n    .dataframe tbody tr th:only-of-type {\n        vertical-align: middle;\n    }\n\n    .dataframe tbody tr th {\n        vertical-align: top;\n    }\n\n    .dataframe thead th {\n        text-align: right;\n    }\n</style>\n<table border=\"1\" class=\"dataframe\">\n  <thead>\n    <tr style=\"text-align: right;\">\n      <th></th>\n      <th>symbol</th>\n    </tr>\n  </thead>\n  <tbody>\n    <tr>\n      <th>0</th>\n      <td>EIX</td>\n    </tr>\n    <tr>\n      <th>1</th>\n      <td>1284849D</td>\n    </tr>\n    <tr>\n      <th>2</th>\n      <td>FE</td>\n    </tr>\n    <tr>\n      <th>3</th>\n      <td>AA</td>\n    </tr>\n    <tr>\n      <th>4</th>\n      <td>AXP</td>\n    </tr>\n    <tr>\n      <th>...</th>\n      <td>...</td>\n    </tr>\n    <tr>\n      <th>716</th>\n      <td>IR</td>\n    </tr>\n    <tr>\n      <th>717</th>\n      <td>POOL</td>\n    </tr>\n    <tr>\n      <th>718</th>\n      <td>VNT</td>\n    </tr>\n    <tr>\n      <th>719</th>\n      <td>TSLA</td>\n    </tr>\n    <tr>\n      <th>720</th>\n      <td>TDY</td>\n    </tr>\n  </tbody>\n</table>\n<p>721 rows × 1 columns</p>\n</div>"
     },
     "execution_count": 3,
     "metadata": {},
     "output_type": "execute_result"
    }
   ],
   "source": [
    "# reading a csv with the sp500 components since 2010\n",
    "sp500 = pd.read_csv('/Users/alex/Documents/Notebook/improved_momentum/data/index/sp500_2010.csv',usecols=['symbol'])\n",
    "\n",
    "sp500"
   ],
   "metadata": {
    "collapsed": false,
    "pycharm": {
     "name": "#%%\n"
    }
   }
  },
  {
   "cell_type": "code",
   "execution_count": 4,
   "outputs": [],
   "source": [
    "start = pd.Timestamp(year=2010, month=1, day=1)\n",
    "end = pd.Timestamp(year=2021, month=1, day=1)"
   ],
   "metadata": {
    "collapsed": false,
    "pycharm": {
     "name": "#%%\n"
    }
   }
  },
  {
   "cell_type": "code",
   "execution_count": 5,
   "outputs": [],
   "source": [
    "def test_time(assets, id, start_date, end_date):\n",
    "    start = datetime.datetime.now()\n",
    "    query = reader.get_asset_data(assets=assets,\n",
    "                ts_fields=[\"prccd\", \"prchd\", \"prcld\", \"prcod\"], # timeseries fields we want\n",
    "                static_fields=['tic', 'conm', 'weburl'], # static fields\n",
    "                start = start_date, # start date\n",
    "                end = end_date, # end date\n",
    "                search_by=id # in this query we are using ticker as our asset id\n",
    "                )\n",
    "    results = query.df\n",
    "    total_time = datetime.datetime.now() - start\n",
    "    print(f'Took {total_time.total_seconds()} seconds to get fetch results and format DataFrame')\n",
    "    print('\\nInfo on returned DataFrame:')\n",
    "    print(results.info())"
   ],
   "metadata": {
    "collapsed": false,
    "pycharm": {
     "name": "#%%\n"
    }
   }
  },
  {
   "cell_type": "markdown",
   "source": [
    "### Testing the speed for fetching ALL timeseries data for 721 unique tickers\n",
    "* The query took under 35 seconds."
   ],
   "metadata": {
    "collapsed": false
   }
  },
  {
   "cell_type": "code",
   "execution_count": 6,
   "outputs": [
    {
     "name": "stdout",
     "output_type": "stream",
     "text": [
      "Took 20.944078 seconds to get fetch results and format DataFrame\n",
      "\n",
      "Info on returned DataFrame:\n",
      "<class 'pandas.core.frame.DataFrame'>\n",
      "MultiIndex: 1682882 entries, (Timestamp('2013-12-09 00:00:00'), 'AAL') to (Timestamp('2020-12-31 00:00:00'), 'ALLE')\n",
      "Data columns (total 6 columns):\n",
      " #   Column  Non-Null Count    Dtype  \n",
      "---  ------  --------------    -----  \n",
      " 0   conm    1682882 non-null  object \n",
      " 1   weburl  1682882 non-null  object \n",
      " 2   prccd   1682733 non-null  float64\n",
      " 3   prchd   1682733 non-null  float64\n",
      " 4   prcld   1682733 non-null  float64\n",
      " 5   prcod   1682517 non-null  float64\n",
      "dtypes: float64(4), object(2)\n",
      "memory usage: 83.6+ MB\n",
      "None\n"
     ]
    }
   ],
   "source": [
    "test_time(sp500['symbol'].tolist(), 'tic', start, end)"
   ],
   "metadata": {
    "collapsed": false,
    "pycharm": {
     "name": "#%%\n"
    }
   }
  },
  {
   "cell_type": "markdown",
   "source": [
    "### Fetching ALL data for single asset\n",
    "\n",
    "* Took under 5 seconds"
   ],
   "metadata": {
    "collapsed": false,
    "pycharm": {
     "name": "#%% md\n"
    }
   }
  },
  {
   "cell_type": "code",
   "execution_count": 7,
   "outputs": [
    {
     "name": "stdout",
     "output_type": "stream",
     "text": [
      "Took 3.067581 seconds to get fetch results and format DataFrame\n",
      "\n",
      "Info on returned DataFrame:\n",
      "<class 'pandas.core.frame.DataFrame'>\n",
      "MultiIndex: 5538 entries, (Timestamp('2010-01-04 00:00:00'), 'AAPL') to (Timestamp('2020-12-31 00:00:00'), 'JNJ')\n",
      "Data columns (total 6 columns):\n",
      " #   Column  Non-Null Count  Dtype  \n",
      "---  ------  --------------  -----  \n",
      " 0   conm    5538 non-null   object \n",
      " 1   weburl  5538 non-null   object \n",
      " 2   prccd   5538 non-null   float64\n",
      " 3   prchd   5538 non-null   float64\n",
      " 4   prcld   5538 non-null   float64\n",
      " 5   prcod   5538 non-null   float64\n",
      "dtypes: float64(4), object(2)\n",
      "memory usage: 362.2+ KB\n",
      "None\n"
     ]
    }
   ],
   "source": [
    "test_time(['AAPL', 'JNJ'], 'tic', start, end)"
   ],
   "metadata": {
    "collapsed": false,
    "pycharm": {
     "name": "#%%\n"
    }
   }
  },
  {
   "cell_type": "code",
   "execution_count": 7,
   "outputs": [],
   "source": [],
   "metadata": {
    "collapsed": false,
    "pycharm": {
     "name": "#%%\n"
    }
   }
  }
 ],
 "metadata": {
  "kernelspec": {
   "display_name": "Python 3",
   "language": "python",
   "name": "python3"
  },
  "language_info": {
   "codemirror_mode": {
    "name": "ipython",
    "version": 2
   },
   "file_extension": ".py",
   "mimetype": "text/x-python",
   "name": "python",
   "nbconvert_exporter": "python",
   "pygments_lexer": "ipython2",
   "version": "2.7.6"
  }
 },
 "nbformat": 4,
 "nbformat_minor": 0
}