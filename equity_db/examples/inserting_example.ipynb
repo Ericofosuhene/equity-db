{
 "cells": [
  {
   "cell_type": "markdown",
   "source": [
    "# Inserting\n",
    "To insert into the database all we have to do is give our InsertIntoDB object a connection to the database with collection specified.\n",
    "Then we can simply call the format_and_insert method and pass it the path to our csv containing the CRSP data set.\n",
    "The data can only have fields that are default ot the linked CRSP or compustat data.\n",
    "The [metadata](https://github.com/Alexd14/equity-db/tree/main/equity_db/variables/metadata) folder specifies the fields and dtypes for collections.\n",
    "On my laptop (16 GB ram, 8 cores) I was able to insert the entire linked CRSP Compustat database (~35GB) in under 30 minutes."
   ],
   "metadata": {
    "collapsed": false,
    "pycharm": {
     "name": "#%% md\n"
    }
   }
  },
  {
   "cell_type": "code",
   "execution_count": null,
   "outputs": [],
   "source": [
    "from equity_db.api.mongo_connection import MongoAPI\n",
    "from equity_db.write.insert_to_db import InsertIntoDB"
   ],
   "metadata": {
    "collapsed": false,
    "pycharm": {
     "name": "#%%\n"
    }
   }
  },
  {
   "cell_type": "code",
   "execution_count": null,
   "outputs": [],
   "source": [
    "ins = InsertIntoDB(MongoAPI('test', 'crsp'))"
   ],
   "metadata": {
    "collapsed": false,
    "pycharm": {
     "name": "#%%\n"
    }
   }
  },
  {
   "cell_type": "code",
   "execution_count": null,
   "outputs": [],
   "source": [
    "ins.format_and_insert('crsp.csv')"
   ],
   "metadata": {
    "collapsed": false,
    "pycharm": {
     "name": "#%%\n"
    }
   }
  },
  {
   "cell_type": "markdown",
   "source": [
    "To insert the compustat data all we have to do is change the collection name in our mongo connection and specify the path to the compustat data."
   ],
   "metadata": {
    "collapsed": false,
    "pycharm": {
     "name": "#%% md\n"
    }
   }
  },
  {
   "cell_type": "code",
   "execution_count": null,
   "outputs": [],
   "source": [
    "ins = InsertIntoDB(MongoAPI('test', 'compustat'))"
   ],
   "metadata": {
    "collapsed": false,
    "pycharm": {
     "name": "#%%\n"
    }
   }
  },
  {
   "cell_type": "code",
   "execution_count": null,
   "outputs": [],
   "source": [
    "ins.format_and_insert('compustat.csv')"
   ],
   "metadata": {
    "collapsed": false,
    "pycharm": {
     "name": "#%%\n"
    }
   }
  },
  {
   "cell_type": "code",
   "execution_count": 1,
   "outputs": [
    {
     "name": "stdout",
     "output_type": "stream",
     "text": [
      "['lpermno' 'gvkey' 'linkprim' 'liid' 'linktype' 'lpermco' 'linkdt'\n",
      " 'linkenddt' 'iid' 'datadate' 'tic' 'cusip' 'conm' 'curcddv' 'capgn'\n",
      " 'cheqv' 'div' 'divd' 'divdpaydateind' 'divsp' 'dvrated' 'paydateind'\n",
      " 'anncdate' 'capgnpaydate' 'cheqvpaydate' 'divdpaydate' 'divsppaydate'\n",
      " 'paydate' 'recorddate' 'curcdd' 'adrrc' 'ajexdi' 'cshoc' 'cshtrd' 'dvi'\n",
      " 'eps' 'epsmo' 'prccd' 'prchd' 'prcld' 'prcod' 'prcstd' 'trfd' 'exchg'\n",
      " 'secstat' 'tpci' 'cik' 'fic' 'add1' 'add2' 'add3' 'add4' 'addzip'\n",
      " 'busdesc' 'city' 'conml' 'costat' 'county' 'dlrsn' 'ein' 'fax' 'fyrc'\n",
      " 'ggroup' 'gind' 'gsector' 'gsubind' 'idbflag' 'incorp' 'loc' 'naics'\n",
      " 'phone' 'prican' 'prirow' 'priusa' 'sic' 'spcindcd' 'spcseccd' 'spcsrc'\n",
      " 'state' 'stko' 'weburl' 'dldte' 'ipodate']\n"
     ]
    },
    {
     "data": {
      "text/plain": "   lpermno  gvkey linkprim  liid linktype  lpermco    linkdt  linkenddt  iid  \\\n0    10001  12994        P     1       LC     7953  19860109   20170831    1   \n1    10001  12994        P     1       LC     7953  19860109   20170831    1   \n2    10001  12994        P     1       LC     7953  19860109   20170831    1   \n3    10001  12994        P     1       LC     7953  19860109   20170831    1   \n4    10001  12994        P     1       LC     7953  19860109   20170831    1   \n\n   datadate  ... priusa   sic spcindcd spcseccd  spcsrc  state  stko  \\\n0  20000210  ...      1  4924      710      700       B     OH     0   \n1  20130117  ...      1  4924      710      700       B     OH     0   \n2  20121123  ...      1  4924      710      700       B     OH     0   \n3  20130122  ...      1  4924      710      700       B     OH     0   \n4  20130311  ...      1  4924      710      700       B     OH     0   \n\n          weburl     dldte  ipodate  \n0  www.huinc.net  20170804      NaN  \n1  www.huinc.net  20170804      NaN  \n2  www.huinc.net  20170804      NaN  \n3  www.huinc.net  20170804      NaN  \n4  www.huinc.net  20170804      NaN  \n\n[5 rows x 83 columns]",
      "text/html": "<div>\n<style scoped>\n    .dataframe tbody tr th:only-of-type {\n        vertical-align: middle;\n    }\n\n    .dataframe tbody tr th {\n        vertical-align: top;\n    }\n\n    .dataframe thead th {\n        text-align: right;\n    }\n</style>\n<table border=\"1\" class=\"dataframe\">\n  <thead>\n    <tr style=\"text-align: right;\">\n      <th></th>\n      <th>lpermno</th>\n      <th>gvkey</th>\n      <th>linkprim</th>\n      <th>liid</th>\n      <th>linktype</th>\n      <th>lpermco</th>\n      <th>linkdt</th>\n      <th>linkenddt</th>\n      <th>iid</th>\n      <th>datadate</th>\n      <th>...</th>\n      <th>priusa</th>\n      <th>sic</th>\n      <th>spcindcd</th>\n      <th>spcseccd</th>\n      <th>spcsrc</th>\n      <th>state</th>\n      <th>stko</th>\n      <th>weburl</th>\n      <th>dldte</th>\n      <th>ipodate</th>\n    </tr>\n  </thead>\n  <tbody>\n    <tr>\n      <th>0</th>\n      <td>10001</td>\n      <td>12994</td>\n      <td>P</td>\n      <td>1</td>\n      <td>LC</td>\n      <td>7953</td>\n      <td>19860109</td>\n      <td>20170831</td>\n      <td>1</td>\n      <td>20000210</td>\n      <td>...</td>\n      <td>1</td>\n      <td>4924</td>\n      <td>710</td>\n      <td>700</td>\n      <td>B</td>\n      <td>OH</td>\n      <td>0</td>\n      <td>www.huinc.net</td>\n      <td>20170804</td>\n      <td>NaN</td>\n    </tr>\n    <tr>\n      <th>1</th>\n      <td>10001</td>\n      <td>12994</td>\n      <td>P</td>\n      <td>1</td>\n      <td>LC</td>\n      <td>7953</td>\n      <td>19860109</td>\n      <td>20170831</td>\n      <td>1</td>\n      <td>20130117</td>\n      <td>...</td>\n      <td>1</td>\n      <td>4924</td>\n      <td>710</td>\n      <td>700</td>\n      <td>B</td>\n      <td>OH</td>\n      <td>0</td>\n      <td>www.huinc.net</td>\n      <td>20170804</td>\n      <td>NaN</td>\n    </tr>\n    <tr>\n      <th>2</th>\n      <td>10001</td>\n      <td>12994</td>\n      <td>P</td>\n      <td>1</td>\n      <td>LC</td>\n      <td>7953</td>\n      <td>19860109</td>\n      <td>20170831</td>\n      <td>1</td>\n      <td>20121123</td>\n      <td>...</td>\n      <td>1</td>\n      <td>4924</td>\n      <td>710</td>\n      <td>700</td>\n      <td>B</td>\n      <td>OH</td>\n      <td>0</td>\n      <td>www.huinc.net</td>\n      <td>20170804</td>\n      <td>NaN</td>\n    </tr>\n    <tr>\n      <th>3</th>\n      <td>10001</td>\n      <td>12994</td>\n      <td>P</td>\n      <td>1</td>\n      <td>LC</td>\n      <td>7953</td>\n      <td>19860109</td>\n      <td>20170831</td>\n      <td>1</td>\n      <td>20130122</td>\n      <td>...</td>\n      <td>1</td>\n      <td>4924</td>\n      <td>710</td>\n      <td>700</td>\n      <td>B</td>\n      <td>OH</td>\n      <td>0</td>\n      <td>www.huinc.net</td>\n      <td>20170804</td>\n      <td>NaN</td>\n    </tr>\n    <tr>\n      <th>4</th>\n      <td>10001</td>\n      <td>12994</td>\n      <td>P</td>\n      <td>1</td>\n      <td>LC</td>\n      <td>7953</td>\n      <td>19860109</td>\n      <td>20170831</td>\n      <td>1</td>\n      <td>20130311</td>\n      <td>...</td>\n      <td>1</td>\n      <td>4924</td>\n      <td>710</td>\n      <td>700</td>\n      <td>B</td>\n      <td>OH</td>\n      <td>0</td>\n      <td>www.huinc.net</td>\n      <td>20170804</td>\n      <td>NaN</td>\n    </tr>\n  </tbody>\n</table>\n<p>5 rows × 83 columns</p>\n</div>"
     },
     "execution_count": 1,
     "metadata": {},
     "output_type": "execute_result"
    }
   ],
   "source": [
    "import pandas as pd\n",
    "\n",
    "# This is what the crsp data looks like\n",
    "crsp = pd.read_csv('../testing/crsp.csv', nrows=20)\n",
    "\n",
    "print(crsp.columns.values)\n",
    "crsp.head()"
   ],
   "metadata": {
    "collapsed": false,
    "pycharm": {
     "name": "#%%\n"
    }
   }
  },
  {
   "cell_type": "code",
   "execution_count": 2,
   "outputs": [
    {
     "name": "stdout",
     "output_type": "stream",
     "text": [
      "['lpermno' 'gvkey' 'linkprim' 'liid' 'linktype' 'lpermco' 'linkdt'\n",
      " 'linkenddt' 'datadate' 'fyearq' 'fqtr' 'fyr' 'indfmt' 'consol' 'popsrc'\n",
      " 'datafmt' 'tic' 'cusip' 'conm' 'acctchgq' 'acctstdq' 'adrrq' 'ajexq'\n",
      " 'ajpq' 'bsprq' 'compstq' 'curcdq' 'curncdq' 'currtrq' 'curuscnq'\n",
      " 'datacqtr' 'datafqtr' 'finalq' 'ogmq' 'rp' 'scfq' 'srcq' 'staltq' 'updq'\n",
      " 'apdedateq' 'fdateq' 'pdateq' 'rdq' 'acchgq' 'acomincq' 'acoq' 'actq'\n",
      " 'altoq' 'ancq' 'anoq' 'aociderglq' 'aociotherq' 'aocipenq' 'aocisecglq'\n",
      " 'aol2q' 'aoq' 'apq' 'aqaq' 'aqdq' 'aqepsq' 'aqpl1q' 'aqpq' 'arcedq'\n",
      " 'arceepsq' 'arceq' 'atq' 'aul3q' 'billexceq' 'capr1q' 'capr2q' 'capr3q'\n",
      " 'capsftq' 'capsq' 'ceiexbillq' 'ceqq' 'cheq' 'chq' 'cibegniq' 'cicurrq'\n",
      " 'ciderglq' 'cimiiq' 'ciotherq' 'cipenq' 'ciq' 'cisecglq' 'citotalq'\n",
      " 'cogsq' 'csh12q' 'cshfd12' 'cshfdq' 'cshiq' 'cshopq' 'cshoq' 'cshprq'\n",
      " 'cstkcvq' 'cstkeq' 'cstkq' 'dcomq' 'dd1q' 'deracq' 'deraltq' 'derhedglq'\n",
      " 'derlcq' 'derlltq' 'diladq' 'dilavq' 'dlcq' 'dlttq' 'doq' 'dpacreq'\n",
      " 'dpactq' 'dpq' 'dpretq' 'drcq' 'drltq' 'dteaq' 'dtedq' 'dteepsq' 'dtepq'\n",
      " 'dvintfq' 'dvpq' 'epsf12' 'epsfi12' 'epsfiq' 'epsfxq' 'epspi12' 'epspiq'\n",
      " 'epspxq' 'epsx12' 'esopctq' 'esopnrq' 'esoprq' 'esoptq' 'esubq' 'fcaq'\n",
      " 'ffoq' 'finacoq' 'finaoq' 'finchq' 'findlcq' 'findltq' 'finivstq'\n",
      " 'finlcoq' 'finltoq' 'finnpq' 'finreccq' 'finrecltq' 'finrevq' 'finxintq'\n",
      " 'finxoprq' 'gdwlamq' 'gdwlia12' 'gdwliaq' 'gdwlid12' 'gdwlidq'\n",
      " 'gdwlieps12' 'gdwliepsq' 'gdwlipq' 'gdwlq' 'glaq' 'glcea12' 'glceaq'\n",
      " 'glced12' 'glcedq' 'glceeps12' 'glceepsq' 'glcepq' 'gldq' 'glepsq'\n",
      " 'glivq' 'glpq' 'hedgeglq' 'ibadj12' 'ibadjq' 'ibcomq' 'ibmiiq' 'ibq'\n",
      " 'icaptq' 'intaccq' 'intanoq' 'intanq' 'invfgq' 'invoq' 'invrmq' 'invtq'\n",
      " 'invwipq' 'ivaeqq' 'ivaoq' 'ivltq' 'ivstq' 'lcoq' 'lctq' 'lltq' 'lnoq'\n",
      " 'lol2q' 'loq' 'loxdrq' 'lqpl1q' 'lseq' 'ltmibq' 'ltq' 'lul3q' 'mibnq'\n",
      " 'mibq' 'mibtq' 'miiq' 'msaq' 'ncoq' 'niitq' 'nimq' 'niq' 'nopiq' 'npatq'\n",
      " 'npq' 'nrtxtdq' 'nrtxtepsq' 'nrtxtq' 'obkq' 'oepf12' 'oeps12' 'oepsxq'\n",
      " 'oiadpq' 'oibdpq' 'opepsq' 'optdrq' 'optfvgrq' 'optlifeq' 'optrfrq'\n",
      " 'optvolq' 'piq' 'pllq' 'pnc12' 'pncd12' 'pncdq' 'pnceps12' 'pncepsq'\n",
      " 'pnciapq' 'pnciaq' 'pncidpq' 'pncidq' 'pnciepspq' 'pnciepsq' 'pncippq'\n",
      " 'pncipq' 'pncpd12' 'pncpdq' 'pncpeps12' 'pncpepsq' 'pncpq' 'pncq'\n",
      " 'pncwiapq' 'pncwiaq' 'pncwidpq' 'pncwidq' 'pncwiepq' 'pncwiepsq'\n",
      " 'pncwippq' 'pncwipq' 'pnrshoq' 'ppegtq' 'ppentq' 'prcaq' 'prcd12' 'prcdq'\n",
      " 'prce12' 'prceps12' 'prcepsq' 'prcpd12' 'prcpdq' 'prcpeps12' 'prcpepsq'\n",
      " 'prcpq' 'prcraq' 'prshoq' 'pstknq' 'pstkq' 'pstkrq' 'rcaq' 'rcdq'\n",
      " 'rcepsq' 'rcpq' 'rdipaq' 'rdipdq' 'rdipepsq' 'rdipq' 'recdq' 'rectaq'\n",
      " 'rectoq' 'rectq' 'rectrq' 'recubq' 'req' 'retq' 'reunaq' 'revtq' 'rllq'\n",
      " 'rra12' 'rraq' 'rrd12' 'rrdq' 'rreps12' 'rrepsq' 'rrpq' 'rstcheltq'\n",
      " 'rstcheq' 'saleq' 'seqoq' 'seqq' 'seta12' 'setaq' 'setd12' 'setdq'\n",
      " 'seteps12' 'setepsq' 'setpq' 'spce12' 'spced12' 'spcedpq' 'spcedq'\n",
      " 'spceeps12' 'spceepsp12' 'spceepspq' 'spceepsq' 'spcep12' 'spcepd12'\n",
      " 'spcepq' 'spceq' 'spidq' 'spiepsq' 'spioaq' 'spiopq' 'spiq' 'sretq'\n",
      " 'stkcoq' 'stkcpaq' 'teqq' 'tfvaq' 'tfvceq' 'tfvlq' 'tieq' 'tiiq' 'tstknq'\n",
      " 'tstkq' 'txdbaq' 'txdbcaq' 'txdbclq' 'txdbq' 'txdiq' 'txditcq' 'txpq'\n",
      " 'txtq' 'txwq' 'uacoq' 'uaoq' 'uaptq' 'ucapsq' 'ucconsq' 'uceqq' 'uddq'\n",
      " 'udmbq' 'udoltq' 'udpcoq' 'udvpq' 'ugiq' 'uinvq' 'ulcoq' 'uniamiq'\n",
      " 'unopincq' 'uopiq' 'updvpq' 'upmcstkq' 'upmpfq' 'upmpfsq' 'upmsubpq'\n",
      " 'upstkcq' 'upstkq' 'urectq' 'uspiq' 'usubdvpq' 'usubpcvq' 'utemq' 'wcapq'\n",
      " 'wdaq' 'wddq' 'wdepsq' 'wdpq' 'xaccq' 'xidoq' 'xintq' 'xiq' 'xoprq'\n",
      " 'xopt12' 'xoptd12' 'xoptd12p' 'xoptdq' 'xoptdqp' 'xopteps12' 'xoptepsp12'\n",
      " 'xoptepsq' 'xoptepsqp' 'xoptq' 'xoptqp' 'xrdq' 'xsgaq' 'acchgy' 'afudccy'\n",
      " 'afudciy' 'amcy' 'aolochy' 'apalchy' 'aqay' 'aqcy' 'aqdy' 'aqepsy' 'aqpy'\n",
      " 'arcedy' 'arceepsy' 'arcey' 'capxy' 'cdvcy' 'chechy' 'cibegniy' 'cicurry'\n",
      " 'cidergly' 'cimiiy' 'ciothery' 'cipeny' 'cisecgly' 'citotaly' 'ciy'\n",
      " 'cogsy' 'cshfdy' 'cshpry' 'cstkey' 'depcy' 'derhedgly' 'dilady' 'dilavy'\n",
      " 'dlcchy' 'dltisy' 'dltry' 'doy' 'dpcy' 'dprety' 'dpy' 'dteay' 'dtedy'\n",
      " 'dteepsy' 'dtepy' 'dvpy' 'dvy' 'epsfiy' 'epsfxy' 'epspiy' 'epspxy'\n",
      " 'esubcy' 'esuby' 'exrey' 'fcay' 'ffoy' 'fiaoy' 'fincfy' 'finrevy'\n",
      " 'finxinty' 'finxopry' 'fopoxy' 'fopoy' 'fopty' 'fsrcoy' 'fsrcty' 'fuseoy'\n",
      " 'fusety' 'gdwlamy' 'gdwliay' 'gdwlidy' 'gdwliepsy' 'gdwlipy' 'glay'\n",
      " 'glceay' 'glcedy' 'glceepsy' 'glcepy' 'gldy' 'glepsy' 'glivy' 'glpy'\n",
      " 'hedgegly' 'ibadjy' 'ibcomy' 'ibcy' 'ibmiiy' 'iby' 'intpny' 'invchy'\n",
      " 'itccy' 'ivacoy' 'ivchy' 'ivncfy' 'ivstchy' 'miiy' 'ncoy' 'niity' 'nimy'\n",
      " 'niy' 'nopiy' 'nrtxtdy' 'nrtxtepsy' 'nrtxty' 'oancfy' 'oepsxy' 'oiadpy'\n",
      " 'oibdpy' 'opepsy' 'optdry' 'optfvgry' 'optlifey' 'optrfry' 'optvoly'\n",
      " 'pdvcy' 'piy' 'plly' 'pncdy' 'pncepsy' 'pnciapy' 'pnciay' 'pncidpy'\n",
      " 'pncidy' 'pnciepspy' 'pnciepsy' 'pncippy' 'pncipy' 'pncpdy' 'pncpepsy'\n",
      " 'pncpy' 'pncwiapy' 'pncwiay' 'pncwidpy' 'pncwidy' 'pncwiepsy' 'pncwiepy'\n",
      " 'pncwippy' 'pncwipy' 'pncy' 'prcay' 'prcdy' 'prcepsy' 'prcpdy' 'prcpepsy'\n",
      " 'prcpy' 'prstkccy' 'prstkcy' 'prstkpcy' 'rcay' 'rcdy' 'rcepsy' 'rcpy'\n",
      " 'rdipay' 'rdipdy' 'rdipepsy' 'rdipy' 'recchy' 'revty' 'rray' 'rrdy'\n",
      " 'rrepsy' 'rrpy' 'saley' 'scstkcy' 'setay' 'setdy' 'setepsy' 'setpy'\n",
      " 'sivy' 'spcedpy' 'spcedy' 'spceepspy' 'spceepsy' 'spcepy' 'spcey' 'spidy'\n",
      " 'spiepsy' 'spioay' 'spiopy' 'spiy' 'sppey' 'sppivy' 'spstkcy' 'srety'\n",
      " 'sstky' 'stkcoy' 'stkcpay' 'tdcy' 'tfvcey' 'tiey' 'tiiy' 'tsafcy'\n",
      " 'txachy' 'txbcofy' 'txbcoy' 'txdcy' 'txdiy' 'txpdy' 'txty' 'txwy'\n",
      " 'uaolochy' 'udfccy' 'udvpy' 'ufretsdy' 'ugiy' 'uniamiy' 'unopincy'\n",
      " 'unwccy' 'uoisy' 'updvpy' 'uptacy' 'uspiy' 'ustdncy' 'usubdvpy' 'utfdocy'\n",
      " 'utfoscy' 'utmey' 'uwkcapcy' 'wcapchy' 'wcapcy' 'wday' 'wddy' 'wdepsy'\n",
      " 'wdpy' 'xidocy' 'xidoy' 'xinty' 'xiy' 'xopry' 'xoptdqpy' 'xoptdy'\n",
      " 'xoptepsqpy' 'xoptepsy' 'xoptqpy' 'xopty' 'xrdy' 'xsgay' 'exchg' 'cik'\n",
      " 'costat' 'fic' 'cshtrq' 'dvpspq' 'dvpsxq' 'mkvaltq' 'prccq' 'prchq'\n",
      " 'prclq' 'adjex' 'add1' 'add2' 'add3' 'add4' 'addzip' 'busdesc' 'city'\n",
      " 'conml' 'county' 'dlrsn' 'ein' 'fax' 'fyrc' 'ggroup' 'gind' 'gsector'\n",
      " 'gsubind' 'idbflag' 'incorp' 'loc' 'naics' 'phone' 'prican' 'prirow'\n",
      " 'priusa' 'sic' 'spcindcd' 'spcseccd' 'spcsrc' 'state' 'stko' 'weburl'\n",
      " 'dldte' 'ipodate']\n"
     ]
    },
    {
     "data": {
      "text/plain": "   lpermno  gvkey linkprim  liid linktype  lpermco    linkdt  linkenddt  \\\n0    10000  13007        P     1       LU     7952  19860107   19870630   \n1    10000  13007        P     1       LU     7952  19860107   19870630   \n2    10000  13007        P     1       LU     7952  19860107   19870630   \n3    10000  13007        P     1       LU     7952  19860107   19870630   \n4    10000  13007        P     1       LU     7952  19860107   19870630   \n\n   datadate  fyearq  ...  priusa   sic spcindcd spcseccd spcsrc state stko  \\\n0  19870430  1987.0  ...       1  3942      475      976    NaN    CO    0   \n1  19860131  1986.0  ...       1  3942      475      976    NaN    CO    0   \n2  19860430  1986.0  ...       1  3942      475      976    NaN    CO    0   \n3  19870131  1987.0  ...       1  3942      475      976    NaN    CO    0   \n4  19861031  1986.0  ...       1  3942      475      976    NaN    CO    0   \n\n   weburl     dldte     ipodate  \n0     NaN  19890930  19860507.0  \n1     NaN  19890930  19860507.0  \n2     NaN  19890930  19860507.0  \n3     NaN  19890930  19860507.0  \n4     NaN  19890930  19860507.0  \n\n[5 rows x 687 columns]",
      "text/html": "<div>\n<style scoped>\n    .dataframe tbody tr th:only-of-type {\n        vertical-align: middle;\n    }\n\n    .dataframe tbody tr th {\n        vertical-align: top;\n    }\n\n    .dataframe thead th {\n        text-align: right;\n    }\n</style>\n<table border=\"1\" class=\"dataframe\">\n  <thead>\n    <tr style=\"text-align: right;\">\n      <th></th>\n      <th>lpermno</th>\n      <th>gvkey</th>\n      <th>linkprim</th>\n      <th>liid</th>\n      <th>linktype</th>\n      <th>lpermco</th>\n      <th>linkdt</th>\n      <th>linkenddt</th>\n      <th>datadate</th>\n      <th>fyearq</th>\n      <th>...</th>\n      <th>priusa</th>\n      <th>sic</th>\n      <th>spcindcd</th>\n      <th>spcseccd</th>\n      <th>spcsrc</th>\n      <th>state</th>\n      <th>stko</th>\n      <th>weburl</th>\n      <th>dldte</th>\n      <th>ipodate</th>\n    </tr>\n  </thead>\n  <tbody>\n    <tr>\n      <th>0</th>\n      <td>10000</td>\n      <td>13007</td>\n      <td>P</td>\n      <td>1</td>\n      <td>LU</td>\n      <td>7952</td>\n      <td>19860107</td>\n      <td>19870630</td>\n      <td>19870430</td>\n      <td>1987.0</td>\n      <td>...</td>\n      <td>1</td>\n      <td>3942</td>\n      <td>475</td>\n      <td>976</td>\n      <td>NaN</td>\n      <td>CO</td>\n      <td>0</td>\n      <td>NaN</td>\n      <td>19890930</td>\n      <td>19860507.0</td>\n    </tr>\n    <tr>\n      <th>1</th>\n      <td>10000</td>\n      <td>13007</td>\n      <td>P</td>\n      <td>1</td>\n      <td>LU</td>\n      <td>7952</td>\n      <td>19860107</td>\n      <td>19870630</td>\n      <td>19860131</td>\n      <td>1986.0</td>\n      <td>...</td>\n      <td>1</td>\n      <td>3942</td>\n      <td>475</td>\n      <td>976</td>\n      <td>NaN</td>\n      <td>CO</td>\n      <td>0</td>\n      <td>NaN</td>\n      <td>19890930</td>\n      <td>19860507.0</td>\n    </tr>\n    <tr>\n      <th>2</th>\n      <td>10000</td>\n      <td>13007</td>\n      <td>P</td>\n      <td>1</td>\n      <td>LU</td>\n      <td>7952</td>\n      <td>19860107</td>\n      <td>19870630</td>\n      <td>19860430</td>\n      <td>1986.0</td>\n      <td>...</td>\n      <td>1</td>\n      <td>3942</td>\n      <td>475</td>\n      <td>976</td>\n      <td>NaN</td>\n      <td>CO</td>\n      <td>0</td>\n      <td>NaN</td>\n      <td>19890930</td>\n      <td>19860507.0</td>\n    </tr>\n    <tr>\n      <th>3</th>\n      <td>10000</td>\n      <td>13007</td>\n      <td>P</td>\n      <td>1</td>\n      <td>LU</td>\n      <td>7952</td>\n      <td>19860107</td>\n      <td>19870630</td>\n      <td>19870131</td>\n      <td>1987.0</td>\n      <td>...</td>\n      <td>1</td>\n      <td>3942</td>\n      <td>475</td>\n      <td>976</td>\n      <td>NaN</td>\n      <td>CO</td>\n      <td>0</td>\n      <td>NaN</td>\n      <td>19890930</td>\n      <td>19860507.0</td>\n    </tr>\n    <tr>\n      <th>4</th>\n      <td>10000</td>\n      <td>13007</td>\n      <td>P</td>\n      <td>1</td>\n      <td>LU</td>\n      <td>7952</td>\n      <td>19860107</td>\n      <td>19870630</td>\n      <td>19861031</td>\n      <td>1986.0</td>\n      <td>...</td>\n      <td>1</td>\n      <td>3942</td>\n      <td>475</td>\n      <td>976</td>\n      <td>NaN</td>\n      <td>CO</td>\n      <td>0</td>\n      <td>NaN</td>\n      <td>19890930</td>\n      <td>19860507.0</td>\n    </tr>\n  </tbody>\n</table>\n<p>5 rows × 687 columns</p>\n</div>"
     },
     "execution_count": 2,
     "metadata": {},
     "output_type": "execute_result"
    }
   ],
   "source": [
    "# This is what the compustat data looks like\n",
    "compustst = pd.read_csv('/Users/alex/Desktop/full compustat.csv', nrows=20)\n",
    "\n",
    "print(compustst.columns.values)\n",
    "compustst.head()"
   ],
   "metadata": {
    "collapsed": false,
    "pycharm": {
     "name": "#%%\n"
    }
   }
  },
  {
   "cell_type": "code",
   "execution_count": null,
   "outputs": [],
   "source": [],
   "metadata": {
    "collapsed": false,
    "pycharm": {
     "name": "#%%\n"
    }
   }
  }
 ],
 "metadata": {
  "kernelspec": {
   "display_name": "Python 3",
   "language": "python",
   "name": "python3"
  },
  "language_info": {
   "codemirror_mode": {
    "name": "ipython",
    "version": 2
   },
   "file_extension": ".py",
   "mimetype": "text/x-python",
   "name": "python",
   "nbconvert_exporter": "python",
   "pygments_lexer": "ipython2",
   "version": "2.7.6"
  }
 },
 "nbformat": 4,
 "nbformat_minor": 0
}