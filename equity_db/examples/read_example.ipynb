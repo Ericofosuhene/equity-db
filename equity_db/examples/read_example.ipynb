{
 "cells": [
  {
   "cell_type": "markdown",
   "metadata": {
    "collapsed": true,
    "pycharm": {
     "name": "#%% md\n"
    }
   },
   "source": [
    "# Demonstration Reading DB"
   ]
  },
  {
   "cell_type": "code",
   "execution_count": 1,
   "outputs": [],
   "source": [
    "import pandas as pd\n",
    "\n",
    "from db_access.asset_query import AssetQuery\n",
    "from db_access.db_query import ReadDB\n",
    "from api.mongo_connection import MongoAPI"
   ],
   "metadata": {
    "collapsed": false,
    "pycharm": {
     "name": "#%%\n"
    }
   }
  },
  {
   "cell_type": "code",
   "execution_count": 2,
   "outputs": [],
   "source": [
    "# making our api connection\n",
    "api = MongoAPI('DS4300')\n",
    "\n",
    "# making our class to construct our queries\n",
    "reader = ReadDB(api)"
   ],
   "metadata": {
    "collapsed": false,
    "pycharm": {
     "name": "#%%\n"
    }
   }
  },
  {
   "cell_type": "markdown",
   "source": [
    "The retrieval speeds are very fast to scan over what was 50 mil + rows of data.\n",
    "However, inorder to best optimize the performance of our api we created a AssetQuery class which saves the results\n",
    "of the query in memory if the set_save() method is called.\n",
    "This means that mongo won't have to rerun queries that have been executed before. This is extremely useful when\n",
    "having to rerun queries in jupyter notebooks"
   ],
   "metadata": {
    "collapsed": false
   }
  },
  {
   "cell_type": "code",
   "execution_count": 3,
   "outputs": [],
   "source": [
    "start = pd.Timestamp(year=2015, month=1, day=1)\n",
    "end = pd.Timestamp(year=2018, month=1, day=1)\n",
    "\n",
    "# lets get the high, low, open, close, ticker company name and website of a company\n",
    "# search the database by ticker\n",
    "# we get back an AssetQuery object which can easity be turned into a pandas DataFrame by using AssetQuery.df\n",
    "combo_data: AssetQuery = reader.get_asset_data(assets=['AAPL', 'JNJ', 'MMM', 'MSFT', 'AMD', 'NVDA', 'KL', 'L' ,'HD'],\n",
    "                                         ts_fields=[\"prccd\", \"prchd\", \"prcld\", \"prcod\"], # timeseries fields we want\n",
    "                                         static_fields=['tic', 'conm', 'weburl'], # static fields\n",
    "                                         start = start, # start date\n",
    "                                         end = end, # end date\n",
    "                                         search_by='tic' # in this query we are using ticker as our asset id\n",
    "                                         )"
   ],
   "metadata": {
    "collapsed": false,
    "pycharm": {
     "name": "#%%\n"
    }
   }
  },
  {
   "cell_type": "code",
   "execution_count": 4,
   "outputs": [
    {
     "data": {
      "text/plain": "                                   conm             weburl     prccd  \\\ndate       tic                                                         \n2015-01-02 AAPL               APPLE INC      www.apple.com  109.3300   \n           AMD   ADVANCED MICRO DEVICES        www.amd.com    2.6900   \n           HD            HOME DEPOT INC  www.homedepot.com  103.4300   \n           JNJ        JOHNSON & JOHNSON        www.jnj.com  104.5200   \n           KL    KIRKLAND LAKE GOLD LTD     www.klgold.com    3.0004   \n...                                 ...                ...       ...   \n2017-12-29 KL    KIRKLAND LAKE GOLD LTD     www.klgold.com   19.2700   \n           L                 LOEWS CORP      www.loews.com   50.0300   \n           MMM                    3M CO         www.3m.com  235.3700   \n           MSFT          MICROSOFT CORP  www.microsoft.com   85.5400   \n           NVDA             NVIDIA CORP     www.nvidia.com  193.5000   \n\n                    prchd     prcld     prcod  \ndate       tic                                 \n2015-01-02 AAPL  111.4400  107.3500  111.3900  \n           AMD     2.7300    2.6400    2.7000  \n           HD    105.6548  102.6700  105.1600  \n           JNJ   105.5500  104.1300  105.0500  \n           KL      3.0740    2.9902    3.0475  \n...                   ...       ...       ...  \n2017-12-29 KL     19.3500   18.8700   19.1800  \n           L      50.3000   50.0000   50.2000  \n           MMM   237.3100  235.3700  236.4800  \n           MSFT   86.0500   85.5000   85.6300  \n           NVDA  198.4600  193.5000  198.4600  \n\n[7547 rows x 6 columns]",
      "text/html": "<div>\n<style scoped>\n    .dataframe tbody tr th:only-of-type {\n        vertical-align: middle;\n    }\n\n    .dataframe tbody tr th {\n        vertical-align: top;\n    }\n\n    .dataframe thead th {\n        text-align: right;\n    }\n</style>\n<table border=\"1\" class=\"dataframe\">\n  <thead>\n    <tr style=\"text-align: right;\">\n      <th></th>\n      <th></th>\n      <th>conm</th>\n      <th>weburl</th>\n      <th>prccd</th>\n      <th>prchd</th>\n      <th>prcld</th>\n      <th>prcod</th>\n    </tr>\n    <tr>\n      <th>date</th>\n      <th>tic</th>\n      <th></th>\n      <th></th>\n      <th></th>\n      <th></th>\n      <th></th>\n      <th></th>\n    </tr>\n  </thead>\n  <tbody>\n    <tr>\n      <th rowspan=\"5\" valign=\"top\">2015-01-02</th>\n      <th>AAPL</th>\n      <td>APPLE INC</td>\n      <td>www.apple.com</td>\n      <td>109.3300</td>\n      <td>111.4400</td>\n      <td>107.3500</td>\n      <td>111.3900</td>\n    </tr>\n    <tr>\n      <th>AMD</th>\n      <td>ADVANCED MICRO DEVICES</td>\n      <td>www.amd.com</td>\n      <td>2.6900</td>\n      <td>2.7300</td>\n      <td>2.6400</td>\n      <td>2.7000</td>\n    </tr>\n    <tr>\n      <th>HD</th>\n      <td>HOME DEPOT INC</td>\n      <td>www.homedepot.com</td>\n      <td>103.4300</td>\n      <td>105.6548</td>\n      <td>102.6700</td>\n      <td>105.1600</td>\n    </tr>\n    <tr>\n      <th>JNJ</th>\n      <td>JOHNSON &amp; JOHNSON</td>\n      <td>www.jnj.com</td>\n      <td>104.5200</td>\n      <td>105.5500</td>\n      <td>104.1300</td>\n      <td>105.0500</td>\n    </tr>\n    <tr>\n      <th>KL</th>\n      <td>KIRKLAND LAKE GOLD LTD</td>\n      <td>www.klgold.com</td>\n      <td>3.0004</td>\n      <td>3.0740</td>\n      <td>2.9902</td>\n      <td>3.0475</td>\n    </tr>\n    <tr>\n      <th>...</th>\n      <th>...</th>\n      <td>...</td>\n      <td>...</td>\n      <td>...</td>\n      <td>...</td>\n      <td>...</td>\n      <td>...</td>\n    </tr>\n    <tr>\n      <th rowspan=\"5\" valign=\"top\">2017-12-29</th>\n      <th>KL</th>\n      <td>KIRKLAND LAKE GOLD LTD</td>\n      <td>www.klgold.com</td>\n      <td>19.2700</td>\n      <td>19.3500</td>\n      <td>18.8700</td>\n      <td>19.1800</td>\n    </tr>\n    <tr>\n      <th>L</th>\n      <td>LOEWS CORP</td>\n      <td>www.loews.com</td>\n      <td>50.0300</td>\n      <td>50.3000</td>\n      <td>50.0000</td>\n      <td>50.2000</td>\n    </tr>\n    <tr>\n      <th>MMM</th>\n      <td>3M CO</td>\n      <td>www.3m.com</td>\n      <td>235.3700</td>\n      <td>237.3100</td>\n      <td>235.3700</td>\n      <td>236.4800</td>\n    </tr>\n    <tr>\n      <th>MSFT</th>\n      <td>MICROSOFT CORP</td>\n      <td>www.microsoft.com</td>\n      <td>85.5400</td>\n      <td>86.0500</td>\n      <td>85.5000</td>\n      <td>85.6300</td>\n    </tr>\n    <tr>\n      <th>NVDA</th>\n      <td>NVIDIA CORP</td>\n      <td>www.nvidia.com</td>\n      <td>193.5000</td>\n      <td>198.4600</td>\n      <td>193.5000</td>\n      <td>198.4600</td>\n    </tr>\n  </tbody>\n</table>\n<p>7547 rows × 6 columns</p>\n</div>"
     },
     "execution_count": 4,
     "metadata": {},
     "output_type": "execute_result"
    }
   ],
   "source": [
    "# now lets turn the searched data into a DataFrame\n",
    "# we save a deep copy of the dataframe in the AssetQuery object so we dont have to rerun the query\n",
    "df_of_combo_data = combo_data.set_save().df\n",
    "df_of_combo_data.sort_index()\n"
   ],
   "metadata": {
    "collapsed": false,
    "pycharm": {
     "name": "#%%\n"
    }
   }
  },
  {
   "cell_type": "markdown",
   "source": [
    "### Can also pull data for static data only query's"
   ],
   "metadata": {
    "collapsed": false,
    "pycharm": {
     "name": "#%% md\n"
    }
   }
  },
  {
   "cell_type": "code",
   "execution_count": 5,
   "outputs": [],
   "source": [
    "static_data: AssetQuery = reader.get_asset_data(assets=['AAPL', 'JNJ', 'MMM', 'MSFT', 'AMD', 'NVDA', 'KL', 'L' ,'HD'],\n",
    "                                         static_fields=['tic', 'conm', 'weburl', 'cusip'], # static fields\n",
    "                                         search_by='tic' # in this query we are using ticker as our asset id\n",
    "                                         )"
   ],
   "metadata": {
    "collapsed": false,
    "pycharm": {
     "name": "#%%\n"
    }
   }
  },
  {
   "cell_type": "code",
   "execution_count": 6,
   "outputs": [
    {
     "data": {
      "text/plain": "          cusip                    conm             weburl\ntic                                                       \nAAPL  037833100               APPLE INC      www.apple.com\nAMD   007903107  ADVANCED MICRO DEVICES        www.amd.com\nHD    437076102          HOME DEPOT INC  www.homedepot.com\nJNJ   478160104       JOHNSON & JOHNSON        www.jnj.com\nKL    49741E100  KIRKLAND LAKE GOLD LTD     www.klgold.com\nL     540424108              LOEWS CORP      www.loews.com\nMMM   88579Y101                   3M CO         www.3m.com\nMSFT  594918104          MICROSOFT CORP  www.microsoft.com\nNVDA  67066G104             NVIDIA CORP     www.nvidia.com",
      "text/html": "<div>\n<style scoped>\n    .dataframe tbody tr th:only-of-type {\n        vertical-align: middle;\n    }\n\n    .dataframe tbody tr th {\n        vertical-align: top;\n    }\n\n    .dataframe thead th {\n        text-align: right;\n    }\n</style>\n<table border=\"1\" class=\"dataframe\">\n  <thead>\n    <tr style=\"text-align: right;\">\n      <th></th>\n      <th>cusip</th>\n      <th>conm</th>\n      <th>weburl</th>\n    </tr>\n    <tr>\n      <th>tic</th>\n      <th></th>\n      <th></th>\n      <th></th>\n    </tr>\n  </thead>\n  <tbody>\n    <tr>\n      <th>AAPL</th>\n      <td>037833100</td>\n      <td>APPLE INC</td>\n      <td>www.apple.com</td>\n    </tr>\n    <tr>\n      <th>AMD</th>\n      <td>007903107</td>\n      <td>ADVANCED MICRO DEVICES</td>\n      <td>www.amd.com</td>\n    </tr>\n    <tr>\n      <th>HD</th>\n      <td>437076102</td>\n      <td>HOME DEPOT INC</td>\n      <td>www.homedepot.com</td>\n    </tr>\n    <tr>\n      <th>JNJ</th>\n      <td>478160104</td>\n      <td>JOHNSON &amp; JOHNSON</td>\n      <td>www.jnj.com</td>\n    </tr>\n    <tr>\n      <th>KL</th>\n      <td>49741E100</td>\n      <td>KIRKLAND LAKE GOLD LTD</td>\n      <td>www.klgold.com</td>\n    </tr>\n    <tr>\n      <th>L</th>\n      <td>540424108</td>\n      <td>LOEWS CORP</td>\n      <td>www.loews.com</td>\n    </tr>\n    <tr>\n      <th>MMM</th>\n      <td>88579Y101</td>\n      <td>3M CO</td>\n      <td>www.3m.com</td>\n    </tr>\n    <tr>\n      <th>MSFT</th>\n      <td>594918104</td>\n      <td>MICROSOFT CORP</td>\n      <td>www.microsoft.com</td>\n    </tr>\n    <tr>\n      <th>NVDA</th>\n      <td>67066G104</td>\n      <td>NVIDIA CORP</td>\n      <td>www.nvidia.com</td>\n    </tr>\n  </tbody>\n</table>\n</div>"
     },
     "execution_count": 6,
     "metadata": {},
     "output_type": "execute_result"
    }
   ],
   "source": [
    "# now lets turn the searched data into a DataFrame\n",
    "df_of_static_data = static_data.set_save().df\n",
    "df_of_static_data.sort_index()"
   ],
   "metadata": {
    "collapsed": false,
    "pycharm": {
     "name": "#%%\n"
    }
   }
  },
  {
   "cell_type": "code",
   "execution_count": 7,
   "outputs": [],
   "source": [
    "static_data_cuisp: AssetQuery = reader.get_asset_data(\n",
    "     assets=['037833100', '007903107', '437076102', '478160104', '49741E100', '540424108', '88579Y101',\n",
    "             '594918104', '67066G104'],\n",
    "     static_fields=['tic', 'conm', 'weburl'], # static fields\n",
    "     search_by='cusip' # in this query we are using ticker as our asset id\n",
    "     )"
   ],
   "metadata": {
    "collapsed": false,
    "pycharm": {
     "name": "#%%\n"
    }
   }
  },
  {
   "cell_type": "code",
   "execution_count": 8,
   "outputs": [
    {
     "data": {
      "text/plain": "            tic                    conm             weburl\ncusip                                                     \n007903107   AMD  ADVANCED MICRO DEVICES        www.amd.com\n037833100  AAPL               APPLE INC      www.apple.com\n437076102    HD          HOME DEPOT INC  www.homedepot.com\n478160104   JNJ       JOHNSON & JOHNSON        www.jnj.com\n49741E100    KL  KIRKLAND LAKE GOLD LTD     www.klgold.com\n540424108     L              LOEWS CORP      www.loews.com\n594918104  MSFT          MICROSOFT CORP  www.microsoft.com\n67066G104  NVDA             NVIDIA CORP     www.nvidia.com\n88579Y101   MMM                   3M CO         www.3m.com",
      "text/html": "<div>\n<style scoped>\n    .dataframe tbody tr th:only-of-type {\n        vertical-align: middle;\n    }\n\n    .dataframe tbody tr th {\n        vertical-align: top;\n    }\n\n    .dataframe thead th {\n        text-align: right;\n    }\n</style>\n<table border=\"1\" class=\"dataframe\">\n  <thead>\n    <tr style=\"text-align: right;\">\n      <th></th>\n      <th>tic</th>\n      <th>conm</th>\n      <th>weburl</th>\n    </tr>\n    <tr>\n      <th>cusip</th>\n      <th></th>\n      <th></th>\n      <th></th>\n    </tr>\n  </thead>\n  <tbody>\n    <tr>\n      <th>007903107</th>\n      <td>AMD</td>\n      <td>ADVANCED MICRO DEVICES</td>\n      <td>www.amd.com</td>\n    </tr>\n    <tr>\n      <th>037833100</th>\n      <td>AAPL</td>\n      <td>APPLE INC</td>\n      <td>www.apple.com</td>\n    </tr>\n    <tr>\n      <th>437076102</th>\n      <td>HD</td>\n      <td>HOME DEPOT INC</td>\n      <td>www.homedepot.com</td>\n    </tr>\n    <tr>\n      <th>478160104</th>\n      <td>JNJ</td>\n      <td>JOHNSON &amp; JOHNSON</td>\n      <td>www.jnj.com</td>\n    </tr>\n    <tr>\n      <th>49741E100</th>\n      <td>KL</td>\n      <td>KIRKLAND LAKE GOLD LTD</td>\n      <td>www.klgold.com</td>\n    </tr>\n    <tr>\n      <th>540424108</th>\n      <td>L</td>\n      <td>LOEWS CORP</td>\n      <td>www.loews.com</td>\n    </tr>\n    <tr>\n      <th>594918104</th>\n      <td>MSFT</td>\n      <td>MICROSOFT CORP</td>\n      <td>www.microsoft.com</td>\n    </tr>\n    <tr>\n      <th>67066G104</th>\n      <td>NVDA</td>\n      <td>NVIDIA CORP</td>\n      <td>www.nvidia.com</td>\n    </tr>\n    <tr>\n      <th>88579Y101</th>\n      <td>MMM</td>\n      <td>3M CO</td>\n      <td>www.3m.com</td>\n    </tr>\n  </tbody>\n</table>\n</div>"
     },
     "execution_count": 8,
     "metadata": {},
     "output_type": "execute_result"
    }
   ],
   "source": [
    "# now lets turn the searched data into a DataFrame\n",
    "df_of_static_data_cusip = static_data_cuisp.set_save().df\n",
    "df_of_static_data_cusip.sort_index()"
   ],
   "metadata": {
    "collapsed": false,
    "pycharm": {
     "name": "#%%\n"
    }
   }
  },
  {
   "cell_type": "code",
   "execution_count": 9,
   "outputs": [],
   "source": [
    "# brew services restart mongodb-community\n"
   ],
   "metadata": {
    "collapsed": false,
    "pycharm": {
     "name": "#%%\n"
    }
   }
  }
 ],
 "metadata": {
  "kernelspec": {
   "display_name": "Python 3",
   "language": "python",
   "name": "python3"
  },
  "language_info": {
   "codemirror_mode": {
    "name": "ipython",
    "version": 2
   },
   "file_extension": ".py",
   "mimetype": "text/x-python",
   "name": "python",
   "nbconvert_exporter": "python",
   "pygments_lexer": "ipython2",
   "version": "2.7.6"
  }
 },
 "nbformat": 4,
 "nbformat_minor": 0
}