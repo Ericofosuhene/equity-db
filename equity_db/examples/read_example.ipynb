{
 "cells": [
  {
   "cell_type": "markdown",
   "metadata": {
    "collapsed": true,
    "pycharm": {
     "name": "#%% md\n"
    }
   },
   "source": [
    "# Reading DB"
   ]
  },
  {
   "cell_type": "code",
   "execution_count": 1,
   "outputs": [],
   "source": [
    "import pandas as pd\n",
    "from equity_db.api.mongo_connection import MongoAPI\n",
    "from equity_db.query.asset_query import AssetQuery\n",
    "from equity_db.query.db_query import ReadDB"
   ],
   "metadata": {
    "collapsed": false,
    "pycharm": {
     "name": "#%%\n"
    }
   }
  },
  {
   "cell_type": "code",
   "execution_count": 2,
   "outputs": [],
   "source": [
    "# making our api connection\n",
    "api = MongoAPI('test', 'crsp')\n",
    "\n",
    "# making our class to construct our queries\n",
    "reader = ReadDB(api)"
   ],
   "metadata": {
    "collapsed": false,
    "pycharm": {
     "name": "#%%\n"
    }
   }
  },
  {
   "cell_type": "markdown",
   "source": [
    "Queries return a AssetQuery class which can be turned into a dataframe. It is also possible to caches the query's results by calling the set_save() method. We can also specify a trading calendar to join the query results onto. We can do this using set_calendar(\"cal_name\")."
   ],
   "metadata": {
    "collapsed": false
   }
  },
  {
   "cell_type": "code",
   "execution_count": 3,
   "outputs": [],
   "source": [
    "start = pd.Timestamp(year=2019, month=1, day=1)\n",
    "end = pd.Timestamp(year=2020, month=1, day=1)\n",
    "\n",
    "# Here's an example query. We get back an AssetQuery object which can be turned into a DataFrame by using AssetQuery.df\n",
    "combo_data: AssetQuery = reader.get_asset_data(\n",
    "    assets=['AAPL', 'JNJ', 'MMM', 'MSFT', 'AMD', 'NVDA', 'KL', 'L' ,'HD'], # tickers to query\n",
    "    # close, high, low, open, ticker, company name, and website\n",
    "    fields=['prccd', 'prchd', 'prcld', 'prcod', 'tic', 'conm', 'weburl'],\n",
    "    start = start, # start date\n",
    "    end = end, # end date\n",
    "    search_by='tic' # We are searching by ticker\n",
    ")"
   ],
   "metadata": {
    "collapsed": false,
    "pycharm": {
     "name": "#%%\n"
    }
   }
  },
  {
   "cell_type": "code",
   "execution_count": 4,
   "outputs": [
    {
     "data": {
      "text/plain": "                                   conm             weburl     prchd   prcld  \\\ndate       tic                                                                 \n2019-01-02 AAPL               APPLE INC      www.apple.com  158.8500  154.23   \n           AMD   ADVANCED MICRO DEVICES        www.amd.com   19.0000   17.98   \n           HD            HOME DEPOT INC  www.homedepot.com  173.1800  169.05   \n           JNJ        JOHNSON & JOHNSON        www.jnj.com  128.3800  126.28   \n           KL    KIRKLAND LAKE GOLD LTD     www.klgold.com   26.4050   25.80   \n...                                 ...                ...       ...     ...   \n2019-12-31 KL    KIRKLAND LAKE GOLD LTD     www.klgold.com   44.4801   43.87   \n           L                 LOEWS CORP      www.loews.com   52.5100   51.97   \n           MMM                    3M CO         www.3m.com  176.5900  175.07   \n           MSFT          MICROSOFT CORP  www.microsoft.com  157.7700  156.45   \n           NVDA             NVIDIA CORP     www.nvidia.com  235.6750  230.13   \n\n                  prcod   prccd  \ndate       tic                   \n2019-01-02 AAPL  154.89  157.92  \n           AMD    18.01   18.83  \n           HD    169.71  172.41  \n           JNJ   128.13  127.75  \n           KL     26.17   26.09  \n...                 ...     ...  \n2019-12-31 KL     44.29   44.07  \n           L      52.04   52.49  \n           MMM   175.23  176.42  \n           MSFT  156.77  157.70  \n           NVDA  230.90  235.30  \n\n[2268 rows x 6 columns]",
      "text/html": "<div>\n<style scoped>\n    .dataframe tbody tr th:only-of-type {\n        vertical-align: middle;\n    }\n\n    .dataframe tbody tr th {\n        vertical-align: top;\n    }\n\n    .dataframe thead th {\n        text-align: right;\n    }\n</style>\n<table border=\"1\" class=\"dataframe\">\n  <thead>\n    <tr style=\"text-align: right;\">\n      <th></th>\n      <th></th>\n      <th>conm</th>\n      <th>weburl</th>\n      <th>prchd</th>\n      <th>prcld</th>\n      <th>prcod</th>\n      <th>prccd</th>\n    </tr>\n    <tr>\n      <th>date</th>\n      <th>tic</th>\n      <th></th>\n      <th></th>\n      <th></th>\n      <th></th>\n      <th></th>\n      <th></th>\n    </tr>\n  </thead>\n  <tbody>\n    <tr>\n      <th rowspan=\"5\" valign=\"top\">2019-01-02</th>\n      <th>AAPL</th>\n      <td>APPLE INC</td>\n      <td>www.apple.com</td>\n      <td>158.8500</td>\n      <td>154.23</td>\n      <td>154.89</td>\n      <td>157.92</td>\n    </tr>\n    <tr>\n      <th>AMD</th>\n      <td>ADVANCED MICRO DEVICES</td>\n      <td>www.amd.com</td>\n      <td>19.0000</td>\n      <td>17.98</td>\n      <td>18.01</td>\n      <td>18.83</td>\n    </tr>\n    <tr>\n      <th>HD</th>\n      <td>HOME DEPOT INC</td>\n      <td>www.homedepot.com</td>\n      <td>173.1800</td>\n      <td>169.05</td>\n      <td>169.71</td>\n      <td>172.41</td>\n    </tr>\n    <tr>\n      <th>JNJ</th>\n      <td>JOHNSON &amp; JOHNSON</td>\n      <td>www.jnj.com</td>\n      <td>128.3800</td>\n      <td>126.28</td>\n      <td>128.13</td>\n      <td>127.75</td>\n    </tr>\n    <tr>\n      <th>KL</th>\n      <td>KIRKLAND LAKE GOLD LTD</td>\n      <td>www.klgold.com</td>\n      <td>26.4050</td>\n      <td>25.80</td>\n      <td>26.17</td>\n      <td>26.09</td>\n    </tr>\n    <tr>\n      <th>...</th>\n      <th>...</th>\n      <td>...</td>\n      <td>...</td>\n      <td>...</td>\n      <td>...</td>\n      <td>...</td>\n      <td>...</td>\n    </tr>\n    <tr>\n      <th rowspan=\"5\" valign=\"top\">2019-12-31</th>\n      <th>KL</th>\n      <td>KIRKLAND LAKE GOLD LTD</td>\n      <td>www.klgold.com</td>\n      <td>44.4801</td>\n      <td>43.87</td>\n      <td>44.29</td>\n      <td>44.07</td>\n    </tr>\n    <tr>\n      <th>L</th>\n      <td>LOEWS CORP</td>\n      <td>www.loews.com</td>\n      <td>52.5100</td>\n      <td>51.97</td>\n      <td>52.04</td>\n      <td>52.49</td>\n    </tr>\n    <tr>\n      <th>MMM</th>\n      <td>3M CO</td>\n      <td>www.3m.com</td>\n      <td>176.5900</td>\n      <td>175.07</td>\n      <td>175.23</td>\n      <td>176.42</td>\n    </tr>\n    <tr>\n      <th>MSFT</th>\n      <td>MICROSOFT CORP</td>\n      <td>www.microsoft.com</td>\n      <td>157.7700</td>\n      <td>156.45</td>\n      <td>156.77</td>\n      <td>157.70</td>\n    </tr>\n    <tr>\n      <th>NVDA</th>\n      <td>NVIDIA CORP</td>\n      <td>www.nvidia.com</td>\n      <td>235.6750</td>\n      <td>230.13</td>\n      <td>230.90</td>\n      <td>235.30</td>\n    </tr>\n  </tbody>\n</table>\n<p>2268 rows × 6 columns</p>\n</div>"
     },
     "execution_count": 4,
     "metadata": {},
     "output_type": "execute_result"
    }
   ],
   "source": [
    "# now lets turn the query into a DataFrame\n",
    "df_of_combo_data: pd.DataFrame = combo_data.df\n",
    "df_of_combo_data.sort_index()"
   ],
   "metadata": {
    "collapsed": false,
    "pycharm": {
     "name": "#%%\n"
    }
   }
  },
  {
   "cell_type": "code",
   "execution_count": 5,
   "outputs": [
    {
     "name": "stdout",
     "output_type": "stream",
     "text": [
      "<class 'pandas.core.frame.DataFrame'>\n",
      "MultiIndex: 2268 entries, (Timestamp('2019-07-05 00:00:00'), 'KL') to (Timestamp('2019-09-12 00:00:00'), 'NVDA')\n",
      "Data columns (total 6 columns):\n",
      " #   Column  Non-Null Count  Dtype   \n",
      "---  ------  --------------  -----   \n",
      " 0   conm    2268 non-null   category\n",
      " 1   weburl  2268 non-null   category\n",
      " 2   prchd   2268 non-null   float64 \n",
      " 3   prcld   2268 non-null   float64 \n",
      " 4   prcod   2268 non-null   float64 \n",
      " 5   prccd   2268 non-null   float64 \n",
      "dtypes: category(2), float64(4)\n",
      "memory usage: 93.2 KB\n"
     ]
    }
   ],
   "source": [
    "# all static data is turned into a categorical type\n",
    "df_of_combo_data.info()"
   ],
   "metadata": {
    "collapsed": false,
    "pycharm": {
     "name": "#%%\n"
    }
   }
  },
  {
   "cell_type": "code",
   "execution_count": 6,
   "outputs": [
    {
     "name": "stdout",
     "output_type": "stream",
     "text": [
      "We hit ValueError\n"
     ]
    }
   ],
   "source": [
    "# However we cant call .df twice because mongo queries return a generator like object which be read into memory once.\n",
    "try:\n",
    "    display(combo_data.df)\n",
    "except ValueError as e:\n",
    "    print('We hit ValueError')\n"
   ],
   "metadata": {
    "collapsed": false,
    "pycharm": {
     "name": "#%%\n"
    }
   }
  },
  {
   "cell_type": "markdown",
   "source": [
    "Now let's do the same query but let's cache the query along with specifying the calendar."
   ],
   "metadata": {
    "collapsed": false,
    "pycharm": {
     "name": "#%% md\n"
    }
   }
  },
  {
   "cell_type": "code",
   "execution_count": 7,
   "outputs": [],
   "source": [
    "\n",
    "# Same query as above\n",
    "combo_data: AssetQuery = reader.get_asset_data(\n",
    "    assets=['AAPL', 'JNJ', 'MMM', 'MSFT', 'AMD', 'NVDA', 'KL', 'L' ,'HD'], # tickers to query\n",
    "    # close, high, low, open, ticker, company name, and website\n",
    "    fields=['prccd', 'prchd', 'prcld', 'prcod', 'tic', 'conm', 'weburl'],\n",
    "    start = start, # start date\n",
    "    end = end, # end date\n",
    "    search_by='tic' # in this query we are searching by ticker\n",
    ")\n"
   ],
   "metadata": {
    "collapsed": false,
    "pycharm": {
     "name": "#%%\n"
    }
   }
  },
  {
   "cell_type": "code",
   "execution_count": 8,
   "outputs": [
    {
     "data": {
      "text/plain": "                                   conm             weburl     prchd   prcld  \\\ndate       tic                                                                 \n2019-01-02 AAPL               APPLE INC      www.apple.com  158.8500  154.23   \n           AMD   ADVANCED MICRO DEVICES        www.amd.com   19.0000   17.98   \n           HD            HOME DEPOT INC  www.homedepot.com  173.1800  169.05   \n           JNJ        JOHNSON & JOHNSON        www.jnj.com  128.3800  126.28   \n           KL    KIRKLAND LAKE GOLD LTD     www.klgold.com   26.4050   25.80   \n...                                 ...                ...       ...     ...   \n2019-12-31 KL    KIRKLAND LAKE GOLD LTD     www.klgold.com   44.4801   43.87   \n           L                 LOEWS CORP      www.loews.com   52.5100   51.97   \n           MMM                    3M CO         www.3m.com  176.5900  175.07   \n           MSFT          MICROSOFT CORP  www.microsoft.com  157.7700  156.45   \n           NVDA             NVIDIA CORP     www.nvidia.com  235.6750  230.13   \n\n                  prcod   prccd  \ndate       tic                   \n2019-01-02 AAPL  154.89  157.92  \n           AMD    18.01   18.83  \n           HD    169.71  172.41  \n           JNJ   128.13  127.75  \n           KL     26.17   26.09  \n...                 ...     ...  \n2019-12-31 KL     44.29   44.07  \n           L      52.04   52.49  \n           MMM   175.23  176.42  \n           MSFT  156.77  157.70  \n           NVDA  230.90  235.30  \n\n[2268 rows x 6 columns]",
      "text/html": "<div>\n<style scoped>\n    .dataframe tbody tr th:only-of-type {\n        vertical-align: middle;\n    }\n\n    .dataframe tbody tr th {\n        vertical-align: top;\n    }\n\n    .dataframe thead th {\n        text-align: right;\n    }\n</style>\n<table border=\"1\" class=\"dataframe\">\n  <thead>\n    <tr style=\"text-align: right;\">\n      <th></th>\n      <th></th>\n      <th>conm</th>\n      <th>weburl</th>\n      <th>prchd</th>\n      <th>prcld</th>\n      <th>prcod</th>\n      <th>prccd</th>\n    </tr>\n    <tr>\n      <th>date</th>\n      <th>tic</th>\n      <th></th>\n      <th></th>\n      <th></th>\n      <th></th>\n      <th></th>\n      <th></th>\n    </tr>\n  </thead>\n  <tbody>\n    <tr>\n      <th rowspan=\"5\" valign=\"top\">2019-01-02</th>\n      <th>AAPL</th>\n      <td>APPLE INC</td>\n      <td>www.apple.com</td>\n      <td>158.8500</td>\n      <td>154.23</td>\n      <td>154.89</td>\n      <td>157.92</td>\n    </tr>\n    <tr>\n      <th>AMD</th>\n      <td>ADVANCED MICRO DEVICES</td>\n      <td>www.amd.com</td>\n      <td>19.0000</td>\n      <td>17.98</td>\n      <td>18.01</td>\n      <td>18.83</td>\n    </tr>\n    <tr>\n      <th>HD</th>\n      <td>HOME DEPOT INC</td>\n      <td>www.homedepot.com</td>\n      <td>173.1800</td>\n      <td>169.05</td>\n      <td>169.71</td>\n      <td>172.41</td>\n    </tr>\n    <tr>\n      <th>JNJ</th>\n      <td>JOHNSON &amp; JOHNSON</td>\n      <td>www.jnj.com</td>\n      <td>128.3800</td>\n      <td>126.28</td>\n      <td>128.13</td>\n      <td>127.75</td>\n    </tr>\n    <tr>\n      <th>KL</th>\n      <td>KIRKLAND LAKE GOLD LTD</td>\n      <td>www.klgold.com</td>\n      <td>26.4050</td>\n      <td>25.80</td>\n      <td>26.17</td>\n      <td>26.09</td>\n    </tr>\n    <tr>\n      <th>...</th>\n      <th>...</th>\n      <td>...</td>\n      <td>...</td>\n      <td>...</td>\n      <td>...</td>\n      <td>...</td>\n      <td>...</td>\n    </tr>\n    <tr>\n      <th rowspan=\"5\" valign=\"top\">2019-12-31</th>\n      <th>KL</th>\n      <td>KIRKLAND LAKE GOLD LTD</td>\n      <td>www.klgold.com</td>\n      <td>44.4801</td>\n      <td>43.87</td>\n      <td>44.29</td>\n      <td>44.07</td>\n    </tr>\n    <tr>\n      <th>L</th>\n      <td>LOEWS CORP</td>\n      <td>www.loews.com</td>\n      <td>52.5100</td>\n      <td>51.97</td>\n      <td>52.04</td>\n      <td>52.49</td>\n    </tr>\n    <tr>\n      <th>MMM</th>\n      <td>3M CO</td>\n      <td>www.3m.com</td>\n      <td>176.5900</td>\n      <td>175.07</td>\n      <td>175.23</td>\n      <td>176.42</td>\n    </tr>\n    <tr>\n      <th>MSFT</th>\n      <td>MICROSOFT CORP</td>\n      <td>www.microsoft.com</td>\n      <td>157.7700</td>\n      <td>156.45</td>\n      <td>156.77</td>\n      <td>157.70</td>\n    </tr>\n    <tr>\n      <th>NVDA</th>\n      <td>NVIDIA CORP</td>\n      <td>www.nvidia.com</td>\n      <td>235.6750</td>\n      <td>230.13</td>\n      <td>230.90</td>\n      <td>235.30</td>\n    </tr>\n  </tbody>\n</table>\n<p>2268 rows × 6 columns</p>\n</div>"
     },
     "execution_count": 8,
     "metadata": {},
     "output_type": "execute_result"
    }
   ],
   "source": [
    "# Now lets call set save telling the AssetQuery to save the query\n",
    "# We have also filtered the dates in the dataframe to only dates the NYSE was trading\n",
    "# we can use any calendar in pandas_market_calenders or along with \"365\" which includes every single possible day\n",
    "df_of_combo_data: pd.DataFrame = combo_data.set_save().set_calendar('NYSE').df\n",
    "df_of_combo_data.sort_index()"
   ],
   "metadata": {
    "collapsed": false,
    "pycharm": {
     "name": "#%%\n"
    }
   }
  },
  {
   "cell_type": "code",
   "execution_count": 9,
   "outputs": [
    {
     "data": {
      "text/plain": "                                   conm             weburl     prchd   prcld  \\\ndate       tic                                                                 \n2019-01-02 AAPL               APPLE INC      www.apple.com  158.8500  154.23   \n           AMD   ADVANCED MICRO DEVICES        www.amd.com   19.0000   17.98   \n           HD            HOME DEPOT INC  www.homedepot.com  173.1800  169.05   \n           JNJ        JOHNSON & JOHNSON        www.jnj.com  128.3800  126.28   \n           KL    KIRKLAND LAKE GOLD LTD     www.klgold.com   26.4050   25.80   \n...                                 ...                ...       ...     ...   \n2019-12-31 KL    KIRKLAND LAKE GOLD LTD     www.klgold.com   44.4801   43.87   \n           L                 LOEWS CORP      www.loews.com   52.5100   51.97   \n           MMM                    3M CO         www.3m.com  176.5900  175.07   \n           MSFT          MICROSOFT CORP  www.microsoft.com  157.7700  156.45   \n           NVDA             NVIDIA CORP     www.nvidia.com  235.6750  230.13   \n\n                  prcod   prccd  \ndate       tic                   \n2019-01-02 AAPL  154.89  157.92  \n           AMD    18.01   18.83  \n           HD    169.71  172.41  \n           JNJ   128.13  127.75  \n           KL     26.17   26.09  \n...                 ...     ...  \n2019-12-31 KL     44.29   44.07  \n           L      52.04   52.49  \n           MMM   175.23  176.42  \n           MSFT  156.77  157.70  \n           NVDA  230.90  235.30  \n\n[2268 rows x 6 columns]",
      "text/html": "<div>\n<style scoped>\n    .dataframe tbody tr th:only-of-type {\n        vertical-align: middle;\n    }\n\n    .dataframe tbody tr th {\n        vertical-align: top;\n    }\n\n    .dataframe thead th {\n        text-align: right;\n    }\n</style>\n<table border=\"1\" class=\"dataframe\">\n  <thead>\n    <tr style=\"text-align: right;\">\n      <th></th>\n      <th></th>\n      <th>conm</th>\n      <th>weburl</th>\n      <th>prchd</th>\n      <th>prcld</th>\n      <th>prcod</th>\n      <th>prccd</th>\n    </tr>\n    <tr>\n      <th>date</th>\n      <th>tic</th>\n      <th></th>\n      <th></th>\n      <th></th>\n      <th></th>\n      <th></th>\n      <th></th>\n    </tr>\n  </thead>\n  <tbody>\n    <tr>\n      <th rowspan=\"5\" valign=\"top\">2019-01-02</th>\n      <th>AAPL</th>\n      <td>APPLE INC</td>\n      <td>www.apple.com</td>\n      <td>158.8500</td>\n      <td>154.23</td>\n      <td>154.89</td>\n      <td>157.92</td>\n    </tr>\n    <tr>\n      <th>AMD</th>\n      <td>ADVANCED MICRO DEVICES</td>\n      <td>www.amd.com</td>\n      <td>19.0000</td>\n      <td>17.98</td>\n      <td>18.01</td>\n      <td>18.83</td>\n    </tr>\n    <tr>\n      <th>HD</th>\n      <td>HOME DEPOT INC</td>\n      <td>www.homedepot.com</td>\n      <td>173.1800</td>\n      <td>169.05</td>\n      <td>169.71</td>\n      <td>172.41</td>\n    </tr>\n    <tr>\n      <th>JNJ</th>\n      <td>JOHNSON &amp; JOHNSON</td>\n      <td>www.jnj.com</td>\n      <td>128.3800</td>\n      <td>126.28</td>\n      <td>128.13</td>\n      <td>127.75</td>\n    </tr>\n    <tr>\n      <th>KL</th>\n      <td>KIRKLAND LAKE GOLD LTD</td>\n      <td>www.klgold.com</td>\n      <td>26.4050</td>\n      <td>25.80</td>\n      <td>26.17</td>\n      <td>26.09</td>\n    </tr>\n    <tr>\n      <th>...</th>\n      <th>...</th>\n      <td>...</td>\n      <td>...</td>\n      <td>...</td>\n      <td>...</td>\n      <td>...</td>\n      <td>...</td>\n    </tr>\n    <tr>\n      <th rowspan=\"5\" valign=\"top\">2019-12-31</th>\n      <th>KL</th>\n      <td>KIRKLAND LAKE GOLD LTD</td>\n      <td>www.klgold.com</td>\n      <td>44.4801</td>\n      <td>43.87</td>\n      <td>44.29</td>\n      <td>44.07</td>\n    </tr>\n    <tr>\n      <th>L</th>\n      <td>LOEWS CORP</td>\n      <td>www.loews.com</td>\n      <td>52.5100</td>\n      <td>51.97</td>\n      <td>52.04</td>\n      <td>52.49</td>\n    </tr>\n    <tr>\n      <th>MMM</th>\n      <td>3M CO</td>\n      <td>www.3m.com</td>\n      <td>176.5900</td>\n      <td>175.07</td>\n      <td>175.23</td>\n      <td>176.42</td>\n    </tr>\n    <tr>\n      <th>MSFT</th>\n      <td>MICROSOFT CORP</td>\n      <td>www.microsoft.com</td>\n      <td>157.7700</td>\n      <td>156.45</td>\n      <td>156.77</td>\n      <td>157.70</td>\n    </tr>\n    <tr>\n      <th>NVDA</th>\n      <td>NVIDIA CORP</td>\n      <td>www.nvidia.com</td>\n      <td>235.6750</td>\n      <td>230.13</td>\n      <td>230.90</td>\n      <td>235.30</td>\n    </tr>\n  </tbody>\n</table>\n<p>2268 rows × 6 columns</p>\n</div>"
     },
     "execution_count": 9,
     "metadata": {},
     "output_type": "execute_result"
    }
   ],
   "source": [
    "# now we can use .df an unlimited amount of times with no problems\n",
    "combo_data.df\n",
    "combo_data.df\n",
    "combo_data.df\n",
    "combo_data.df\n",
    "combo_data.df.sort_index()\n"
   ],
   "metadata": {
    "collapsed": false,
    "pycharm": {
     "name": "#%%\n"
    }
   }
  },
  {
   "cell_type": "markdown",
   "source": [
    "### Can also pull data for static data only query's"
   ],
   "metadata": {
    "collapsed": false,
    "pycharm": {
     "name": "#%% md\n"
    }
   }
  },
  {
   "cell_type": "code",
   "execution_count": 10,
   "outputs": [],
   "source": [
    "static_data: AssetQuery = reader.get_asset_data(\n",
    "    assets=['AAPL', 'JNJ', 'MMM', 'MSFT', 'AMD', 'NVDA', 'KL', 'L' ,'HD'],\n",
    "    fields=['tic', 'conm', 'weburl', 'cusip', 'lpermno'], # static fields\n",
    "    search_by='tic' # in this query we are using ticker as our asset id\n",
    ")"
   ],
   "metadata": {
    "collapsed": false,
    "pycharm": {
     "name": "#%%\n"
    }
   }
  },
  {
   "cell_type": "code",
   "execution_count": 11,
   "outputs": [
    {
     "data": {
      "text/plain": "          cusip                    conm             weburl lpermno\ntic                                                               \nAAPL  037833100               APPLE INC      www.apple.com   14593\nAMD   007903107  ADVANCED MICRO DEVICES        www.amd.com   61241\nHD    437076102          HOME DEPOT INC  www.homedepot.com   66181\nJNJ   478160104       JOHNSON & JOHNSON        www.jnj.com   22111\nKL    49741E100  KIRKLAND LAKE GOLD LTD     www.klgold.com   16865\nL     540424108              LOEWS CORP      www.loews.com   26710\nMMM   88579Y101                   3M CO         www.3m.com   22592\nMSFT  594918104          MICROSOFT CORP  www.microsoft.com   10107\nNVDA  67066G104             NVIDIA CORP     www.nvidia.com   86580",
      "text/html": "<div>\n<style scoped>\n    .dataframe tbody tr th:only-of-type {\n        vertical-align: middle;\n    }\n\n    .dataframe tbody tr th {\n        vertical-align: top;\n    }\n\n    .dataframe thead th {\n        text-align: right;\n    }\n</style>\n<table border=\"1\" class=\"dataframe\">\n  <thead>\n    <tr style=\"text-align: right;\">\n      <th></th>\n      <th>cusip</th>\n      <th>conm</th>\n      <th>weburl</th>\n      <th>lpermno</th>\n    </tr>\n    <tr>\n      <th>tic</th>\n      <th></th>\n      <th></th>\n      <th></th>\n      <th></th>\n    </tr>\n  </thead>\n  <tbody>\n    <tr>\n      <th>AAPL</th>\n      <td>037833100</td>\n      <td>APPLE INC</td>\n      <td>www.apple.com</td>\n      <td>14593</td>\n    </tr>\n    <tr>\n      <th>AMD</th>\n      <td>007903107</td>\n      <td>ADVANCED MICRO DEVICES</td>\n      <td>www.amd.com</td>\n      <td>61241</td>\n    </tr>\n    <tr>\n      <th>HD</th>\n      <td>437076102</td>\n      <td>HOME DEPOT INC</td>\n      <td>www.homedepot.com</td>\n      <td>66181</td>\n    </tr>\n    <tr>\n      <th>JNJ</th>\n      <td>478160104</td>\n      <td>JOHNSON &amp; JOHNSON</td>\n      <td>www.jnj.com</td>\n      <td>22111</td>\n    </tr>\n    <tr>\n      <th>KL</th>\n      <td>49741E100</td>\n      <td>KIRKLAND LAKE GOLD LTD</td>\n      <td>www.klgold.com</td>\n      <td>16865</td>\n    </tr>\n    <tr>\n      <th>L</th>\n      <td>540424108</td>\n      <td>LOEWS CORP</td>\n      <td>www.loews.com</td>\n      <td>26710</td>\n    </tr>\n    <tr>\n      <th>MMM</th>\n      <td>88579Y101</td>\n      <td>3M CO</td>\n      <td>www.3m.com</td>\n      <td>22592</td>\n    </tr>\n    <tr>\n      <th>MSFT</th>\n      <td>594918104</td>\n      <td>MICROSOFT CORP</td>\n      <td>www.microsoft.com</td>\n      <td>10107</td>\n    </tr>\n    <tr>\n      <th>NVDA</th>\n      <td>67066G104</td>\n      <td>NVIDIA CORP</td>\n      <td>www.nvidia.com</td>\n      <td>86580</td>\n    </tr>\n  </tbody>\n</table>\n</div>"
     },
     "execution_count": 11,
     "metadata": {},
     "output_type": "execute_result"
    }
   ],
   "source": [
    "# now lets turn the searched data into a DataFrame\n",
    "df_of_static_data = static_data.df\n",
    "df_of_static_data.sort_index()"
   ],
   "metadata": {
    "collapsed": false,
    "pycharm": {
     "name": "#%%\n"
    }
   }
  },
  {
   "cell_type": "code",
   "execution_count": 12,
   "outputs": [],
   "source": [
    "# we are searching by permno here (called lpermno in the crsp compustat linked dataset)\n",
    "static_data_lpermno: AssetQuery = reader.get_asset_data(\n",
    "     assets=['14593', '61241', '66181', '22111', '16865', '26710', '22592', '10107', '86580'],\n",
    "     fields=['tic', 'conm', 'weburl'], # static fields\n",
    "     search_by='lpermno' # in this query we are using ticker as our asset id\n",
    "     )"
   ],
   "metadata": {
    "collapsed": false,
    "pycharm": {
     "name": "#%%\n"
    }
   }
  },
  {
   "cell_type": "code",
   "execution_count": 13,
   "outputs": [
    {
     "data": {
      "text/plain": "                           conm   tic             weburl\nlpermno                                                 \n10107            MICROSOFT CORP  MSFT  www.microsoft.com\n14593                 APPLE INC  AAPL      www.apple.com\n16865    KIRKLAND LAKE GOLD LTD    KL     www.klgold.com\n22111         JOHNSON & JOHNSON   JNJ        www.jnj.com\n22592                     3M CO   MMM         www.3m.com\n26710                LOEWS CORP     L      www.loews.com\n61241    ADVANCED MICRO DEVICES   AMD        www.amd.com\n66181            HOME DEPOT INC    HD  www.homedepot.com\n86580               NVIDIA CORP  NVDA     www.nvidia.com",
      "text/html": "<div>\n<style scoped>\n    .dataframe tbody tr th:only-of-type {\n        vertical-align: middle;\n    }\n\n    .dataframe tbody tr th {\n        vertical-align: top;\n    }\n\n    .dataframe thead th {\n        text-align: right;\n    }\n</style>\n<table border=\"1\" class=\"dataframe\">\n  <thead>\n    <tr style=\"text-align: right;\">\n      <th></th>\n      <th>conm</th>\n      <th>tic</th>\n      <th>weburl</th>\n    </tr>\n    <tr>\n      <th>lpermno</th>\n      <th></th>\n      <th></th>\n      <th></th>\n    </tr>\n  </thead>\n  <tbody>\n    <tr>\n      <th>10107</th>\n      <td>MICROSOFT CORP</td>\n      <td>MSFT</td>\n      <td>www.microsoft.com</td>\n    </tr>\n    <tr>\n      <th>14593</th>\n      <td>APPLE INC</td>\n      <td>AAPL</td>\n      <td>www.apple.com</td>\n    </tr>\n    <tr>\n      <th>16865</th>\n      <td>KIRKLAND LAKE GOLD LTD</td>\n      <td>KL</td>\n      <td>www.klgold.com</td>\n    </tr>\n    <tr>\n      <th>22111</th>\n      <td>JOHNSON &amp; JOHNSON</td>\n      <td>JNJ</td>\n      <td>www.jnj.com</td>\n    </tr>\n    <tr>\n      <th>22592</th>\n      <td>3M CO</td>\n      <td>MMM</td>\n      <td>www.3m.com</td>\n    </tr>\n    <tr>\n      <th>26710</th>\n      <td>LOEWS CORP</td>\n      <td>L</td>\n      <td>www.loews.com</td>\n    </tr>\n    <tr>\n      <th>61241</th>\n      <td>ADVANCED MICRO DEVICES</td>\n      <td>AMD</td>\n      <td>www.amd.com</td>\n    </tr>\n    <tr>\n      <th>66181</th>\n      <td>HOME DEPOT INC</td>\n      <td>HD</td>\n      <td>www.homedepot.com</td>\n    </tr>\n    <tr>\n      <th>86580</th>\n      <td>NVIDIA CORP</td>\n      <td>NVDA</td>\n      <td>www.nvidia.com</td>\n    </tr>\n  </tbody>\n</table>\n</div>"
     },
     "execution_count": 13,
     "metadata": {},
     "output_type": "execute_result"
    }
   ],
   "source": [
    "# now lets turn the searched data into a DataFrame\n",
    "df_of_static_data_lpermno = static_data_lpermno.df\n",
    "df_of_static_data_lpermno.sort_index()"
   ],
   "metadata": {
    "collapsed": false,
    "pycharm": {
     "name": "#%%\n"
    }
   }
  },
  {
   "cell_type": "code",
   "execution_count": 13,
   "outputs": [],
   "source": [],
   "metadata": {
    "collapsed": false,
    "pycharm": {
     "name": "#%%\n"
    }
   }
  }
 ],
 "metadata": {
  "kernelspec": {
   "display_name": "Python 3",
   "language": "python",
   "name": "python3"
  },
  "language_info": {
   "codemirror_mode": {
    "name": "ipython",
    "version": 2
   },
   "file_extension": ".py",
   "mimetype": "text/x-python",
   "name": "python",
   "nbconvert_exporter": "python",
   "pygments_lexer": "ipython2",
   "version": "2.7.6"
  }
 },
 "nbformat": 4,
 "nbformat_minor": 0
}